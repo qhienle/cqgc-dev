{
 "cells": [
  {
   "cell_type": "markdown",
   "metadata": {},
   "source": [
    "# Tests"
   ]
  },
  {
   "cell_type": "code",
   "execution_count": 1,
   "metadata": {},
   "outputs": [],
   "source": [
    "import os\n",
    "import sys\n",
    "import logging\n",
    "import pandas as pd\n",
    "\n",
    "#dir = os.path.abspath(__file__)\n",
    "#dir    = os.getcwd()\n",
    "#pkgdir = os.path.dirname(os.path.dirname(dir)\n",
    "\n",
    "sys.path.append(os.path.dirname(os.path.dirname(os.getcwd())))\n",
    "from lib.nanuq import Nanuq\n",
    "from lib.gapp import Phenotips\n"
   ]
  },
  {
   "cell_type": "code",
   "execution_count": 5,
   "metadata": {},
   "outputs": [
    {
     "data": {
      "text/plain": [
       "['emg', 'foo.csv', 'A00516_0445']"
      ]
     },
     "execution_count": 5,
     "metadata": {},
     "output_type": "execute_result"
    }
   ],
   "source": [
    "os.chdir(\"D:\\\\HSJ\\\\tmp\")\n",
    "os.listdir()"
   ]
  },
  {
   "cell_type": "code",
   "execution_count": 15,
   "metadata": {},
   "outputs": [
    {
     "name": "stdout",
     "output_type": "stream",
     "text": [
      "['GM231651', 'GM231626', 'GM231624', 'GM231632', 'GM231627', 'GM231615', 'GM231667', 'GM231668', '23-05982-T1', '23-06384-T1', '23-06383-T1', '3042652455', '3042642360', '3042645886', '3052768938', '3052768961', '3052768951', '3052768942']\n"
     ]
    }
   ],
   "source": [
    "file    = \"A00516_0445\\\\emg_batch_manifest.csv\"\n",
    "def get_samples_list(file):\n",
    "    samples = []\n",
    "    with open(file, 'r') as fh:\n",
    "        for line in fh.readlines():\n",
    "            cols = line.split(',')\n",
    "            samples.append(cols[5])\n",
    "    samples.pop(0)\n",
    "    return samples\n",
    "print(get_samples_list(file))\n"
   ]
  },
  {
   "cell_type": "code",
   "execution_count": null,
   "metadata": {},
   "outputs": [],
   "source": []
  }
 ],
 "metadata": {
  "kernelspec": {
   "display_name": "dev",
   "language": "python",
   "name": "python3"
  },
  "language_info": {
   "codemirror_mode": {
    "name": "ipython",
    "version": 3
   },
   "file_extension": ".py",
   "mimetype": "text/x-python",
   "name": "python",
   "nbconvert_exporter": "python",
   "pygments_lexer": "ipython3",
   "version": "3.11.5"
  },
  "orig_nbformat": 4
 },
 "nbformat": 4,
 "nbformat_minor": 2
}
