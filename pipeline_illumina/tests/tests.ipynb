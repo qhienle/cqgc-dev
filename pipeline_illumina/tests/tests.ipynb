{
 "cells": [
  {
   "cell_type": "markdown",
   "metadata": {},
   "source": [
    "# Tests"
   ]
  },
  {
   "cell_type": "code",
   "execution_count": 1,
   "metadata": {},
   "outputs": [
    {
     "data": {
      "text/plain": [
       "{'run': 'LH00336_0006', 'level': 'debug'}"
      ]
     },
     "execution_count": 1,
     "metadata": {},
     "output_type": "execute_result"
    }
   ],
   "source": [
    "import os\n",
    "import sys\n",
    "import logging\n",
    "import requests\n",
    "import json\n",
    "import re\n",
    "import pandas as pd\n",
    "\n",
    "sys.path.append(os.path.dirname(os.path.dirname(os.getcwd())))\n",
    "from lib.nanuq import Nanuq\n",
    "from lib.gapp import Phenotips\n",
    "from lib.gapp import BSSH\n",
    "from lib.samplesheet import SampleSheet\n",
    "\n",
    "nq    = Nanuq()\n",
    "pho   = Phenotips()\n",
    "bssh  = BSSH()\n",
    "\n",
    "class Args:\n",
    "    # Simulate an argparse instance\n",
    "    #\n",
    "    def __init__(self, run='LH00336_0006', level='info'):\n",
    "        self.run   = run\n",
    "        self.level = level\n",
    "\n",
    "args = Args(level='debug')\n",
    "vars(args)"
   ]
  },
  {
   "cell_type": "code",
   "execution_count": 12,
   "metadata": {},
   "outputs": [
    {
     "data": {
      "text/plain": [
       "['ds.add451fb133443ca96c46b956102c1e7']"
      ]
     },
     "execution_count": 12,
     "metadata": {},
     "output_type": "execute_result"
    }
   ],
   "source": [
    "biosample = \"25335\"\n",
    "biosample_id = bssh.get_biosample_id(biosample)\n",
    "datasets     = bssh.get_dataset_id(biosample_id)\n",
    "datasets"
   ]
  },
  {
   "cell_type": "code",
   "execution_count": 35,
   "metadata": {},
   "outputs": [
    {
     "name": "stdout",
     "output_type": "stream",
     "text": [
      "0\n"
     ]
    }
   ],
   "source": [
    "for dataset in datasets:\n",
    "    endpoint = f\"/v2/datasets/{dataset}/files\"\n",
    "    url   = bssh.server + endpoint\n",
    "    response = requests.get(url, headers=bssh.headers, params={'limit': 100})\n",
    "    response.raise_for_status\n",
    "    print(len(response.json().get('Items')))\n",
    "    for item in response.json().get('Items'):\n",
    "        print(json.dumps(item, indent=2))\n",
    "        fastq = f\"/projects/0000000000/biosamples/{biosample}/datasets/{dataset}/sequenced files/{item['Id']}\"\n",
    "        print(fastq)\n"
   ]
  },
  {
   "cell_type": "code",
   "execution_count": 11,
   "metadata": {},
   "outputs": [
    {
     "data": {
      "text/plain": [
       "['/projects/0000000000/biosamples/25335/datasets/ds.add451fb133443ca96c46b956102c1e7/sequenced files/251992048',\n",
       " '/projects/0000000000/biosamples/25335/datasets/ds.add451fb133443ca96c46b956102c1e7/sequenced files/251992049',\n",
       " '/projects/0000000000/biosamples/25335/datasets/ds.add451fb133443ca96c46b956102c1e7/sequenced files/251992050',\n",
       " '/projects/0000000000/biosamples/25335/datasets/ds.add451fb133443ca96c46b956102c1e7/sequenced files/251992051',\n",
       " '/projects/0000000000/biosamples/25335/datasets/ds.add451fb133443ca96c46b956102c1e7/sequenced files/251992052',\n",
       " '/projects/0000000000/biosamples/25335/datasets/ds.add451fb133443ca96c46b956102c1e7/sequenced files/251992053',\n",
       " '/projects/0000000000/biosamples/25335/datasets/ds.add451fb133443ca96c46b956102c1e7/sequenced files/251992054',\n",
       " '/projects/0000000000/biosamples/25335/datasets/ds.add451fb133443ca96c46b956102c1e7/sequenced files/251992055',\n",
       " '/projects/0000000000/biosamples/25335/datasets/ds.add451fb133443ca96c46b956102c1e7/sequenced files/251992056',\n",
       " '/projects/0000000000/biosamples/25335/datasets/ds.add451fb133443ca96c46b956102c1e7/sequenced files/251992057']"
      ]
     },
     "execution_count": 11,
     "metadata": {},
     "output_type": "execute_result"
    }
   ],
   "source": [
    "bssh.get_sequenced_files(biosample)"
   ]
  },
  {
   "cell_type": "code",
   "execution_count": 6,
   "metadata": {},
   "outputs": [
    {
     "name": "stdout",
     "output_type": "stream",
     "text": [
      "['FileFormatVersion,2', 'RunName,LH00336_0009', 'InstrumentPlatform,NovaSeq', 'IndexOrientation,Forward', '', '[Reads]', 'Read1Cycles,151', 'Read2Cycles,151', 'Index1Cycles,10']\n"
     ]
    }
   ],
   "source": [
    "content = nq.get_samplesheet('LH00336_0009').text.splitlines()\n",
    "print(content[1:10])"
   ]
  },
  {
   "cell_type": "code",
   "execution_count": null,
   "metadata": {},
   "outputs": [],
   "source": [
    "# Get authorization token from Emedgene\n",
    "# Please note - the Authorization header is only valid for a limited time, and\n",
    "# expires after 8H. In that case, any request made with an expired token will \n",
    "# return a 403 code. To resolve, re-do the Login procedure to get a new token.\n",
    "#\n",
    "url      = \"https://chusaintejustine.emedgene.com/api/auth/api_login/\"\n",
    "payload  = '{\"username\": \"cqgc.bioinfo.hsj@ssss.gouv.qc.ca\", \"password\": \"3175CoteSainte-Catherine\"}'\n",
    "headers  = {'Content-Type': 'application/json'}\n",
    "response = requests.request(\"POST\", url, headers=headers, data=payload)\n",
    "auth_header = response.json()[\"Authorization\"]\n",
    "auth_header\n"
   ]
  },
  {
   "cell_type": "code",
   "execution_count": null,
   "metadata": {},
   "outputs": [],
   "source": [
    "# Get case for EMG634551172 (GM240123)\n",
    "#\n",
    "case_id = \"EMG634551172\"\n",
    "get_test_response = requests.get(f'https://chusaintejustine.emedgene.com/api/test/{case_id}/', json={}, headers={'Authorization': auth_header})\n",
    "get_test_response.json().keys()\n"
   ]
  },
  {
   "cell_type": "code",
   "execution_count": null,
   "metadata": {
    "vscode": {
     "languageId": "shellscript"
    }
   },
   "outputs": [],
   "source": [
    "# Transfer files to aws\n",
    "# --profile \"emedgene\" or \"emedgene-eval\"\n",
    "aws s3 ls --profile emedgene-eval s3://cac1-prodca-emg-downloads/Ste_Justine_eval/upload"
   ]
  },
  {
   "cell_type": "code",
   "execution_count": null,
   "metadata": {},
   "outputs": [],
   "source": []
  }
 ],
 "metadata": {
  "kernelspec": {
   "display_name": "dev",
   "language": "python",
   "name": "python3"
  },
  "language_info": {
   "codemirror_mode": {
    "name": "ipython",
    "version": 3
   },
   "file_extension": ".py",
   "mimetype": "text/x-python",
   "name": "python",
   "nbconvert_exporter": "python",
   "pygments_lexer": "ipython3",
   "version": "3.11.5"
  },
  "orig_nbformat": 4
 },
 "nbformat": 4,
 "nbformat_minor": 2
}
