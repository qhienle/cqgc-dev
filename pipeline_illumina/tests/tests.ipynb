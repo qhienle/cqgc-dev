{
 "cells": [
  {
   "cell_type": "markdown",
   "metadata": {},
   "source": [
    "# Tests"
   ]
  },
  {
   "cell_type": "code",
   "execution_count": 2,
   "metadata": {},
   "outputs": [],
   "source": [
    "import os\n",
    "import sys\n",
    "import logging\n",
    "import json\n",
    "import re\n",
    "import pandas as pd\n",
    "\n",
    "#dir = os.path.abspath(__file__)\n",
    "#dir    = os.getcwd()\n",
    "#pkgdir = os.path.dirname(os.path.dirname(dir)\n",
    "\n",
    "sys.path.append(os.path.dirname(os.path.dirname(os.getcwd())))\n",
    "from lib.nanuq import Nanuq\n",
    "from lib.gapp import Phenotips\n",
    "from lib.gapp import BSSH\n",
    "\n",
    "nq = Nanuq()\n",
    "#pho = Phenotips()\n",
    "bssh = BSSH()"
   ]
  },
  {
   "cell_type": "code",
   "execution_count": 3,
   "metadata": {},
   "outputs": [
    {
     "data": {
      "text/plain": [
       "{'run': 'A00516_0445', 'level': 'debug'}"
      ]
     },
     "execution_count": 3,
     "metadata": {},
     "output_type": "execute_result"
    }
   ],
   "source": [
    "class Args:\n",
    "    def __init__(self, run='A00516_0445', level='info'):\n",
    "        self.run   = run\n",
    "        self.level = level\n",
    "\n",
    "args = Args(level='debug')\n",
    "vars(args)"
   ]
  },
  {
   "cell_type": "code",
   "execution_count": 4,
   "metadata": {},
   "outputs": [
    {
     "data": {
      "text/plain": [
       "['README-A00516_0380.ipynb',\n",
       " '230131_A00516_0389_AHHHVWDMXY.xlsx',\n",
       " 'README-A00516_0388.ipynb',\n",
       " '230131_A00516_0388_BHJ3KMDMXY.xlsx',\n",
       " 'README-A00516_0389.ipynb',\n",
       " 'README-A00516_0385.ipynb',\n",
       " 'README-A00516_0384.ipynb',\n",
       " 'README-A00516_0382.ipynb',\n",
       " 'README-A00516_0376.ipynb',\n",
       " 'README-A00516_0372.ipynb',\n",
       " 'README-A00977_0584.ipynb',\n",
       " '230207_A00977_0584_BHJ3LYDMXY.xlsx',\n",
       " 'README-A00516_0392.ipynb',\n",
       " '230217_A00516_0392_BH3YJVDSX5.xlsx',\n",
       " 'README-A00516_0393.ipynb',\n",
       " 'A00516_0393.json',\n",
       " '230224_A00516_0393_AH5WJFDSX5.xlsx',\n",
       " 'README-A00516_0394.ipynb',\n",
       " '230306_A00516_0394_AHJ22WDMXY.xlsx',\n",
       " 'README-A00516_0397.ipynb',\n",
       " 'README-A00516_0399.ipynb',\n",
       " 'README-A00516_0403.ipynb',\n",
       " 'README-A00516_0404.ipynb',\n",
       " 'README-A00516_0406.ipynb',\n",
       " 'README-A00516_0407.ipynb',\n",
       " 'README-A00516_0411.ipynb',\n",
       " 'README-A00516_0413.ipynb',\n",
       " 'README-A00516_0416.ipynb',\n",
       " 'README-A00516_0420.ipynb',\n",
       " 'README-A00516_0424.ipynb',\n",
       " 'archive_PRAGMatIQ.sh',\n",
       " 'README-A00516_0426.ipynb',\n",
       " 'README-test_v32.ipynb',\n",
       " 'README-A00516_0428.ipynb',\n",
       " 'README-A00516_0433.ipynb',\n",
       " 'README-A00516_0437.ipynb',\n",
       " 'README-A00516_0436.ipynb',\n",
       " 'cases_436.log',\n",
       " 'README-A00516_0447.ipynb',\n",
       " '230803_A00516_0443_BH7TCJDSX7',\n",
       " '230809_A00516_0445_AH7N33DSX7',\n",
       " '230809_A00516_0446_BHLMJTDMXY',\n",
       " 'archive_PRAGMatIQ-20230818.log',\n",
       " 'archives_metrics',\n",
       " 'README-A00516_0458.ipynb',\n",
       " 'README-get_samples_metrics.ipynb',\n",
       " 'A00516_0458_metrics0.csv',\n",
       " 'get_samples_metrics-20230830.csv',\n",
       " 'emg_batch_manifest.csv',\n",
       " 'A00516_0458_metrics.csv',\n",
       " 'A00516_0458_metrics.html',\n",
       " 'README-GM201044.ipynb',\n",
       " 'README-GM200174.ipynb',\n",
       " 'README-A00516_0459.ipynb',\n",
       " 'README-A00516_0460.ipynb',\n",
       " 'README-GM191851.ipynb',\n",
       " 'README-A00516_0465.ipynb',\n",
       " 'A00516_0459_0460_metrics0.csv',\n",
       " 'A00516_0465_metrics.csv',\n",
       " 'xlsx_db.csv',\n",
       " 'A00516_0465_metrics.html',\n",
       " 'A00516_0459_0460_metrics.html',\n",
       " 'samples_list.txt',\n",
       " 'df.csv',\n",
       " 'A00516_0445']"
      ]
     },
     "execution_count": 4,
     "metadata": {},
     "output_type": "execute_result"
    }
   ],
   "source": [
    "os.chdir(\"D:\\\\HSJ\\\\Projects\\\\PRAGMatIQ\\\\Runs\")\n",
    "os.listdir()"
   ]
  },
  {
   "cell_type": "code",
   "execution_count": 5,
   "metadata": {},
   "outputs": [
    {
     "name": "stdout",
     "output_type": "stream",
     "text": [
      "['GM231651', 'GM231626', 'GM231624', 'GM231632', 'GM231627', 'GM231615', 'GM231667', 'GM231668', '23-05982-T1', '23-06384-T1', '23-06383-T1', '3042652455', '3042642360', '3042645886', '3052768938', '3052768961', '3052768951', '3052768942']\n"
     ]
    }
   ],
   "source": [
    "file    = \"A00516_0445\\\\emg_batch_manifest.csv\"\n",
    "def get_samples_list(file):\n",
    "    samples = []\n",
    "    with open(file, 'r') as fh:\n",
    "        for line in fh.readlines():\n",
    "            cols = line.split(',')\n",
    "            samples.append(cols[5])\n",
    "    samples.pop(0)\n",
    "    return samples\n",
    "print(get_samples_list(file))\n"
   ]
  },
  {
   "cell_type": "code",
   "execution_count": 6,
   "metadata": {},
   "outputs": [
    {
     "data": {
      "text/plain": [
       "'##2023-08-09\\r\\n##Centre for Pediatric Clinical Genomics\\r\\n##Flow Cell: H7N33DSX7\\r\\n##Principal Investigator: Dr Mehdi Yeganeh, CHUS Service de génétique médicale, Dr Jean-François Soucy\\r\\n##Nanuq References: A00516_0445\\r\\n##Content: Internal_Sample_ID -> Client_Sample_Name Conversion grid\\r\\n##-------------------------------------------\\r\\n##Internal_Sample_ID\\tClient_Sample_Name\\r\\n##-------------------------------------------\\r\\n22256\\t3042652455\\r\\n22257\\t3042642360\\r\\n22258\\t3042645886\\r\\n22262\\t3052768938\\r\\n22263\\t3052768942\\r\\n22264\\t3052768961\\r\\n22265\\t3052768951\\r\\n22282\\t23-05982-T1\\r\\n22283\\t23-06383-T1\\r\\n22284\\t23-06384-T1\\r\\n22285\\tGM231615\\r\\n22286\\tGM231624\\r\\n22287\\tGM231626\\r\\n22288\\tGM231627\\r\\n22290\\tGM231632\\r\\n22293\\tGM231651\\r\\n22294\\tGM231667\\r\\n22295\\tGM231668\\r\\n##-------------------------------------------\\r\\n##Description of the conversion grid:\\r\\n##A \"Client_Sample_Name\" represents the name of a sequencing sample initially assigned by the client.\\r\\n##The \"Internal_Sample_ID\" is the internal identifier assigned by the Center for this sample.\\r\\n##Use of an \"Internal_Sample_ID\" ensures the traceability of this sample throughout the sequencing\\r\\n##process, but also the anonymization of the information generated and transferred in the\\r\\n##frame of this project.\\r\\n'"
      ]
     },
     "execution_count": 6,
     "metadata": {},
     "output_type": "execute_result"
    }
   ],
   "source": [
    "nq = Nanuq()\n",
    "samplenames = nq.get_samplenames(\"A00516_0445\")\n",
    "samplenames.text"
   ]
  },
  {
   "cell_type": "code",
   "execution_count": 7,
   "metadata": {},
   "outputs": [
    {
     "name": "stdout",
     "output_type": "stream",
     "text": [
      "##2023-08-09\n",
      "##Centre for Pediatric Clinical Genomics\n",
      "##Flow Cell: H7N33DSX7\n",
      "##Principal Investigator: Dr Mehdi Yeganeh, CHUS Service de génétique médicale, Dr Jean-François Soucy\n",
      "##Nanuq References: A00516_0445\n",
      "##Content: Internal_Sample_ID -> Client_Sample_Name Conversion grid\n",
      "##-------------------------------------------\n",
      "##Internal_Sample_ID\tClient_Sample_Name\n",
      "##-------------------------------------------\n",
      "22256\t3042652455\n",
      "22257\t3042642360\n",
      "22258\t3042645886\n",
      "22262\t3052768938\n",
      "22263\t3052768942\n",
      "22264\t3052768961\n",
      "22265\t3052768951\n",
      "22282\t23-05982-T1\n",
      "22283\t23-06383-T1\n",
      "22284\t23-06384-T1\n",
      "22285\tGM231615\n",
      "22286\tGM231624\n",
      "22287\tGM231626\n",
      "22288\tGM231627\n",
      "22290\tGM231632\n",
      "22293\tGM231651\n",
      "22294\tGM231667\n",
      "22295\tGM231668\n",
      "##-------------------------------------------\n",
      "##Description of the conversion grid:\n",
      "##A \"Client_Sample_Name\" represents the name of a sequencing sample initially assigned by the client.\n",
      "##The \"Internal_Sample_ID\" is the internal identifier assigned by the Center for this sample.\n",
      "##Use of an \"Internal_Sample_ID\" ensures the traceability of this sample throughout the sequencing\n",
      "##process, but also the anonymization of the information generated and transferred in the\n",
      "##frame of this project.\n"
     ]
    }
   ],
   "source": [
    "for line in samplenames.text.splitlines():\n",
    "    print(line)"
   ]
  },
  {
   "cell_type": "code",
   "execution_count": 8,
   "metadata": {},
   "outputs": [
    {
     "data": {
      "text/plain": [
       "'2023-08-09'"
      ]
     },
     "execution_count": 8,
     "metadata": {},
     "output_type": "execute_result"
    }
   ],
   "source": [
    "fc_date = re.match(r'##(\\d{4}-\\d{2}-\\d{2})', samplenames.text).group(1)\n",
    "fc_date"
   ]
  },
  {
   "cell_type": "code",
   "execution_count": 9,
   "metadata": {},
   "outputs": [
    {
     "name": "stdout",
     "output_type": "stream",
     "text": [
      "22256 3042652455\n",
      "22257 3042642360\n",
      "22258 3042645886\n",
      "22262 3052768938\n",
      "22263 3052768942\n",
      "22264 3052768961\n",
      "22265 3052768951\n",
      "22282 23-05982-T1\n",
      "22283 23-06383-T1\n",
      "22284 23-06384-T1\n",
      "22285 GM231615\n",
      "22286 GM231624\n",
      "22287 GM231626\n",
      "22288 GM231627\n",
      "22290 GM231632\n",
      "22293 GM231651\n",
      "22294 GM231667\n",
      "22295 GM231668\n"
     ]
    }
   ],
   "source": [
    "for line in samplenames.text.splitlines():\n",
    "    if not line.startswith('#'):\n",
    "        cqgc, sample = line.split(\"\\t\")\n",
    "        print(cqgc, sample)\n"
   ]
  },
  {
   "cell_type": "code",
   "execution_count": 10,
   "metadata": {},
   "outputs": [
    {
     "data": {
      "text/plain": [
       "[{'ldmSampleId': '23-06383-T1',\n",
       "  'ldm': 'LDM-CHUS',\n",
       "  'patient': {'designFamily': 'TRIO',\n",
       "   'familyId': '23-05982-T1',\n",
       "   'familyMember': 'FTH',\n",
       "   'firstName': 'Andre-Philippe',\n",
       "   'lastName': 'Belley',\n",
       "   'ramq': 'BELA93092213',\n",
       "   'sex': 'MALE',\n",
       "   'mrn': '00000000',\n",
       "   'ep': 'CHUS',\n",
       "   'birthDate': '22/09/1993',\n",
       "   'fetus': False,\n",
       "   'status': 'UNK'},\n",
       "  'ldmServiceRequestId': '23-06383-T1',\n",
       "  'labAliquotId': '22283',\n",
       "  'panelCode': 'PRAGMATIQ',\n",
       "  'specimenType': 'NBL',\n",
       "  'sampleType': 'DNA',\n",
       "  'ldmSpecimenId': '23-06383-T1'}]"
      ]
     },
     "execution_count": 10,
     "metadata": {},
     "output_type": "execute_result"
    }
   ],
   "source": [
    "json.loads(nq.get_sample(22283))"
   ]
  },
  {
   "cell_type": "code",
   "execution_count": 11,
   "metadata": {},
   "outputs": [
    {
     "data": {
      "text/plain": [
       "'D:\\\\HSJ\\\\Projects\\\\PRAGMatIQ\\\\Runs'"
      ]
     },
     "execution_count": 11,
     "metadata": {},
     "output_type": "execute_result"
    }
   ],
   "source": [
    "os.getcwd()"
   ]
  },
  {
   "cell_type": "code",
   "execution_count": 13,
   "metadata": {},
   "outputs": [
    {
     "name": "stdout",
     "output_type": "stream",
     "text": [
      "sample_name\n",
      "GM231651\n",
      "GM231626\n",
      "GM231624\n",
      "GM231632\n",
      "GM231627\n",
      "GM231615\n",
      "GM231667\n",
      "GM231668\n",
      "23-05982-T1\n",
      "23-06384-T1\n",
      "23-06383-T1\n",
      "3042652455\n",
      "3042642360\n",
      "3042645886\n",
      "3052768938\n",
      "3052768961\n",
      "3052768951\n",
      "3052768942\n"
     ]
    }
   ],
   "source": [
    "samples_list = f\"{args.run}{os.sep}samples_list.txt\"\n",
    "with open(samples_list, 'r') as fh:\n",
    "    for line in fh.readlines():\n",
    "        sample = line.split(',')[0]\n",
    "        print(f\"aws subprocess for {sample}\")"
   ]
  },
  {
   "cell_type": "code",
   "execution_count": null,
   "metadata": {},
   "outputs": [],
   "source": []
  }
 ],
 "metadata": {
  "kernelspec": {
   "display_name": "dev",
   "language": "python",
   "name": "python3"
  },
  "language_info": {
   "codemirror_mode": {
    "name": "ipython",
    "version": 3
   },
   "file_extension": ".py",
   "mimetype": "text/x-python",
   "name": "python",
   "nbconvert_exporter": "python",
   "pygments_lexer": "ipython3",
   "version": "3.11.5"
  },
  "orig_nbformat": 4
 },
 "nbformat": 4,
 "nbformat_minor": 2
}
