{
 "cells": [
  {
   "cell_type": "markdown",
   "metadata": {},
   "source": [
    "# Tests"
   ]
  },
  {
   "cell_type": "code",
   "execution_count": 1,
   "metadata": {},
   "outputs": [],
   "source": [
    "import os\n",
    "import sys\n",
    "import logging\n",
    "import json\n",
    "import re\n",
    "import pandas as pd\n",
    "\n",
    "#dir = os.path.abspath(__file__)\n",
    "#dir    = os.getcwd()\n",
    "#pkgdir = os.path.dirname(os.path.dirname(dir)\n",
    "\n",
    "sys.path.append(os.path.dirname(os.path.dirname(os.getcwd())))\n",
    "from lib.nanuq import Nanuq\n",
    "from lib.gapp import Phenotips\n",
    "from lib.gapp import BSSH\n",
    "\n",
    "nq = Nanuq()\n",
    "#pho = Phenotips()\n",
    "bssh = BSSH()"
   ]
  },
  {
   "cell_type": "code",
   "execution_count": 2,
   "metadata": {},
   "outputs": [
    {
     "data": {
      "text/plain": [
       "{'run': 'A00516_0445', 'level': 'debug'}"
      ]
     },
     "execution_count": 2,
     "metadata": {},
     "output_type": "execute_result"
    }
   ],
   "source": [
    "class Args:\n",
    "    def __init__(self, run='A00516_0445', level='info'):\n",
    "        self.run   = run\n",
    "        self.level = level\n",
    "\n",
    "args = Args(level='debug')\n",
    "vars(args)"
   ]
  },
  {
   "cell_type": "code",
   "execution_count": 3,
   "metadata": {},
   "outputs": [],
   "source": [
    "os.chdir(\"D:\\\\HSJ\\\\Projects\\\\PRAGMatIQ\\\\Runs\")\n",
    "#os.listdir()"
   ]
  },
  {
   "cell_type": "code",
   "execution_count": 4,
   "metadata": {},
   "outputs": [
    {
     "name": "stdout",
     "output_type": "stream",
     "text": [
      "['GM231651', 'GM231626', 'GM231624', 'GM231632', 'GM231627', 'GM231615', 'GM231667', 'GM231668', '23-05982-T1', '23-06384-T1', '23-06383-T1', '3042652455', '3042642360', '3042645886', '3052768938', '3052768961', '3052768951', '3052768942']\n"
     ]
    }
   ],
   "source": [
    "file = \"A00516_0445\\\\emg_batch_manifest.csv\"\n",
    "def get_samples_list(file):\n",
    "    samples = []\n",
    "    with open(file, 'r') as fh:\n",
    "        for line in fh.readlines():\n",
    "            cols = line.split(',')\n",
    "            samples.append(cols[5])\n",
    "    samples.pop(0)\n",
    "    return samples\n",
    "print(get_samples_list(file))\n"
   ]
  },
  {
   "cell_type": "code",
   "execution_count": 5,
   "metadata": {},
   "outputs": [
    {
     "data": {
      "text/plain": [
       "'##2023-08-09\\r\\n##Centre for Pediatric Clinical Genomics\\r\\n##Flow Cell: H7N33DSX7\\r\\n##Principal Investigator: Dr Mehdi Yeganeh, CHUS Service de génétique médicale, Dr Jean-François Soucy\\r\\n##Nanuq References: A00516_0445\\r\\n##Content: Internal_Sample_ID -> Client_Sample_Name Conversion grid\\r\\n##-------------------------------------------\\r\\n##Internal_Sample_ID\\tClient_Sample_Name\\r\\n##-------------------------------------------\\r\\n22256\\t3042652455\\r\\n22257\\t3042642360\\r\\n22258\\t3042645886\\r\\n22262\\t3052768938\\r\\n22263\\t3052768942\\r\\n22264\\t3052768961\\r\\n22265\\t3052768951\\r\\n22282\\t23-05982-T1\\r\\n22283\\t23-06383-T1\\r\\n22284\\t23-06384-T1\\r\\n22285\\tGM231615\\r\\n22286\\tGM231624\\r\\n22287\\tGM231626\\r\\n22288\\tGM231627\\r\\n22290\\tGM231632\\r\\n22293\\tGM231651\\r\\n22294\\tGM231667\\r\\n22295\\tGM231668\\r\\n##-------------------------------------------\\r\\n##Description of the conversion grid:\\r\\n##A \"Client_Sample_Name\" represents the name of a sequencing sample initially assigned by the client.\\r\\n##The \"Internal_Sample_ID\" is the internal identifier assigned by the Center for this sample.\\r\\n##Use of an \"Internal_Sample_ID\" ensures the traceability of this sample throughout the sequencing\\r\\n##process, but also the anonymization of the information generated and transferred in the\\r\\n##frame of this project.\\r\\n'"
      ]
     },
     "execution_count": 5,
     "metadata": {},
     "output_type": "execute_result"
    }
   ],
   "source": [
    "nq = Nanuq()\n",
    "samplenames = nq.get_samplenames(\"A00516_0445\")\n",
    "samplenames.text"
   ]
  },
  {
   "cell_type": "code",
   "execution_count": 6,
   "metadata": {},
   "outputs": [
    {
     "name": "stdout",
     "output_type": "stream",
     "text": [
      "##2023-08-09\n",
      "##Centre for Pediatric Clinical Genomics\n",
      "##Flow Cell: H7N33DSX7\n",
      "##Principal Investigator: Dr Mehdi Yeganeh, CHUS Service de génétique médicale, Dr Jean-François Soucy\n",
      "##Nanuq References: A00516_0445\n",
      "##Content: Internal_Sample_ID -> Client_Sample_Name Conversion grid\n",
      "##-------------------------------------------\n",
      "##Internal_Sample_ID\tClient_Sample_Name\n",
      "##-------------------------------------------\n",
      "22256\t3042652455\n",
      "22257\t3042642360\n",
      "22258\t3042645886\n",
      "22262\t3052768938\n",
      "22263\t3052768942\n",
      "22264\t3052768961\n",
      "22265\t3052768951\n",
      "22282\t23-05982-T1\n",
      "22283\t23-06383-T1\n",
      "22284\t23-06384-T1\n",
      "22285\tGM231615\n",
      "22286\tGM231624\n",
      "22287\tGM231626\n",
      "22288\tGM231627\n",
      "22290\tGM231632\n",
      "22293\tGM231651\n",
      "22294\tGM231667\n",
      "22295\tGM231668\n",
      "##-------------------------------------------\n",
      "##Description of the conversion grid:\n",
      "##A \"Client_Sample_Name\" represents the name of a sequencing sample initially assigned by the client.\n",
      "##The \"Internal_Sample_ID\" is the internal identifier assigned by the Center for this sample.\n",
      "##Use of an \"Internal_Sample_ID\" ensures the traceability of this sample throughout the sequencing\n",
      "##process, but also the anonymization of the information generated and transferred in the\n",
      "##frame of this project.\n"
     ]
    }
   ],
   "source": [
    "for line in samplenames.text.splitlines():\n",
    "    print(line)"
   ]
  },
  {
   "cell_type": "code",
   "execution_count": 7,
   "metadata": {},
   "outputs": [
    {
     "data": {
      "text/plain": [
       "'2023-08-09'"
      ]
     },
     "execution_count": 7,
     "metadata": {},
     "output_type": "execute_result"
    }
   ],
   "source": [
    "fc_date = re.match(r'##(\\d{4}-\\d{2}-\\d{2})', samplenames.text).group(1)\n",
    "fc_date"
   ]
  },
  {
   "cell_type": "code",
   "execution_count": 8,
   "metadata": {},
   "outputs": [
    {
     "name": "stdout",
     "output_type": "stream",
     "text": [
      "22256 3042652455\n",
      "22257 3042642360\n",
      "22258 3042645886\n",
      "22262 3052768938\n",
      "22263 3052768942\n",
      "22264 3052768961\n",
      "22265 3052768951\n",
      "22282 23-05982-T1\n",
      "22283 23-06383-T1\n",
      "22284 23-06384-T1\n",
      "22285 GM231615\n",
      "22286 GM231624\n",
      "22287 GM231626\n",
      "22288 GM231627\n",
      "22290 GM231632\n",
      "22293 GM231651\n",
      "22294 GM231667\n",
      "22295 GM231668\n"
     ]
    }
   ],
   "source": [
    "for line in samplenames.text.splitlines():\n",
    "    if not line.startswith('#'):\n",
    "        cqgc, sample = line.split(\"\\t\")\n",
    "        print(cqgc, sample)\n"
   ]
  },
  {
   "cell_type": "code",
   "execution_count": 9,
   "metadata": {},
   "outputs": [
    {
     "data": {
      "text/plain": [
       "[{'ldmSampleId': '23-06383-T1',\n",
       "  'ldm': 'LDM-CHUS',\n",
       "  'patient': {'designFamily': 'TRIO',\n",
       "   'familyId': '23-05982-T1',\n",
       "   'familyMember': 'FTH',\n",
       "   'firstName': 'Andre-Philippe',\n",
       "   'lastName': 'Belley',\n",
       "   'ramq': 'BELA93092213',\n",
       "   'sex': 'MALE',\n",
       "   'mrn': '00000000',\n",
       "   'ep': 'CHUS',\n",
       "   'birthDate': '22/09/1993',\n",
       "   'fetus': False,\n",
       "   'status': 'UNK'},\n",
       "  'ldmServiceRequestId': '23-06383-T1',\n",
       "  'labAliquotId': '22283',\n",
       "  'panelCode': 'PRAGMATIQ',\n",
       "  'specimenType': 'NBL',\n",
       "  'sampleType': 'DNA',\n",
       "  'ldmSpecimenId': '23-06383-T1'}]"
      ]
     },
     "execution_count": 9,
     "metadata": {},
     "output_type": "execute_result"
    }
   ],
   "source": [
    "json.loads(nq.get_sample(22283))"
   ]
  },
  {
   "cell_type": "code",
   "execution_count": 10,
   "metadata": {},
   "outputs": [
    {
     "data": {
      "text/plain": [
       "'D:\\\\HSJ\\\\Projects\\\\PRAGMatIQ\\\\Runs'"
      ]
     },
     "execution_count": 10,
     "metadata": {},
     "output_type": "execute_result"
    }
   ],
   "source": [
    "os.getcwd()"
   ]
  },
  {
   "cell_type": "code",
   "execution_count": 12,
   "metadata": {},
   "outputs": [
    {
     "name": "stdout",
     "output_type": "stream",
     "text": [
      "aws subprocess for GM231651\n",
      "aws subprocess for GM231626\n",
      "aws subprocess for GM231624\n",
      "aws subprocess for GM231632\n",
      "aws subprocess for GM231627\n",
      "aws subprocess for GM231615\n",
      "aws subprocess for GM231667\n",
      "aws subprocess for GM231668\n",
      "aws subprocess for 23-05982-T1\n",
      "aws subprocess for 23-06384-T1\n",
      "aws subprocess for 23-06383-T1\n",
      "aws subprocess for 3042652455\n",
      "aws subprocess for 3042642360\n",
      "aws subprocess for 3042645886\n",
      "aws subprocess for 3052768938\n",
      "aws subprocess for 3052768961\n",
      "aws subprocess for 3052768951\n",
      "aws subprocess for 3052768942\n"
     ]
    }
   ],
   "source": [
    "samples_list = f\"{args.run}{os.sep}samples_list.txt\"\n",
    "with open(samples_list, 'r') as fh:\n",
    "    next(fh) # skip the header\n",
    "    for line in fh.readlines():\n",
    "        sample = line.split(',')[0]\n",
    "        print(f\"aws subprocess for {sample}\")"
   ]
  },
  {
   "cell_type": "code",
   "execution_count": 13,
   "metadata": {},
   "outputs": [
    {
     "data": {
      "text/plain": [
       "<enumerate at 0x244a62aa0c0>"
      ]
     },
     "execution_count": 13,
     "metadata": {},
     "output_type": "execute_result"
    }
   ],
   "source": [
    "names = ['hien', 'caro', 'esm', 'sts']\n",
    "enumerate(names)"
   ]
  },
  {
   "cell_type": "code",
   "execution_count": 14,
   "metadata": {},
   "outputs": [
    {
     "ename": "ValueError",
     "evalue": "too many values to unpack (expected 2)",
     "output_type": "error",
     "traceback": [
      "\u001b[1;31m---------------------------------------------------------------------------\u001b[0m",
      "\u001b[1;31mValueError\u001b[0m                                Traceback (most recent call last)",
      "\u001b[1;32md:\\HSJ\\Workspace\\cqgc-dev\\pipeline_illumina\\tests\\tests.ipynb Cell 14\u001b[0m line \u001b[0;36m1\n\u001b[1;32m----> <a href='vscode-notebook-cell:/d%3A/HSJ/Workspace/cqgc-dev/pipeline_illumina/tests/tests.ipynb#X16sZmlsZQ%3D%3D?line=0'>1</a>\u001b[0m \u001b[39mfor\u001b[39;00m index, name \u001b[39min\u001b[39;00m names:\n\u001b[0;32m      <a href='vscode-notebook-cell:/d%3A/HSJ/Workspace/cqgc-dev/pipeline_illumina/tests/tests.ipynb#X16sZmlsZQ%3D%3D?line=1'>2</a>\u001b[0m     \u001b[39mprint\u001b[39m(index, name)\n",
      "\u001b[1;31mValueError\u001b[0m: too many values to unpack (expected 2)"
     ]
    }
   ],
   "source": [
    "for index, name in enumerate(names):\n",
    "    print(index, name)"
   ]
  },
  {
   "cell_type": "code",
   "execution_count": null,
   "metadata": {},
   "outputs": [],
   "source": []
  }
 ],
 "metadata": {
  "kernelspec": {
   "display_name": "dev",
   "language": "python",
   "name": "python3"
  },
  "language_info": {
   "codemirror_mode": {
    "name": "ipython",
    "version": 3
   },
   "file_extension": ".py",
   "mimetype": "text/x-python",
   "name": "python",
   "nbconvert_exporter": "python",
   "pygments_lexer": "ipython3",
   "version": "3.11.5"
  },
  "orig_nbformat": 4
 },
 "nbformat": 4,
 "nbformat_minor": 2
}
