{
 "cells": [
  {
   "cell_type": "markdown",
   "metadata": {},
   "source": [
    "# Tests"
   ]
  },
  {
   "cell_type": "code",
   "execution_count": 25,
   "metadata": {},
   "outputs": [],
   "source": [
    "import os\n",
    "import sys\n",
    "import logging\n",
    "import json\n",
    "import re\n",
    "import pandas as pd\n",
    "\n",
    "#dir = os.path.abspath(__file__)\n",
    "#dir    = os.getcwd()\n",
    "#pkgdir = os.path.dirname(os.path.dirname(dir)\n",
    "\n",
    "sys.path.append(os.path.dirname(os.path.dirname(os.getcwd())))\n",
    "from lib.nanuq import Nanuq\n",
    "from lib.gapp import Phenotips\n"
   ]
  },
  {
   "cell_type": "code",
   "execution_count": 5,
   "metadata": {},
   "outputs": [
    {
     "data": {
      "text/plain": [
       "['emg', 'foo.csv', 'A00516_0445']"
      ]
     },
     "execution_count": 5,
     "metadata": {},
     "output_type": "execute_result"
    }
   ],
   "source": [
    "os.chdir(\"D:\\\\HSJ\\\\tmp\")\n",
    "os.listdir()"
   ]
  },
  {
   "cell_type": "code",
   "execution_count": 15,
   "metadata": {},
   "outputs": [
    {
     "name": "stdout",
     "output_type": "stream",
     "text": [
      "['GM231651', 'GM231626', 'GM231624', 'GM231632', 'GM231627', 'GM231615', 'GM231667', 'GM231668', '23-05982-T1', '23-06384-T1', '23-06383-T1', '3042652455', '3042642360', '3042645886', '3052768938', '3052768961', '3052768951', '3052768942']\n"
     ]
    }
   ],
   "source": [
    "file    = \"A00516_0445\\\\emg_batch_manifest.csv\"\n",
    "def get_samples_list(file):\n",
    "    samples = []\n",
    "    with open(file, 'r') as fh:\n",
    "        for line in fh.readlines():\n",
    "            cols = line.split(',')\n",
    "            samples.append(cols[5])\n",
    "    samples.pop(0)\n",
    "    return samples\n",
    "print(get_samples_list(file))\n"
   ]
  },
  {
   "cell_type": "code",
   "execution_count": 18,
   "metadata": {},
   "outputs": [
    {
     "data": {
      "text/plain": [
       "'##2023-08-09\\r\\n##Centre for Pediatric Clinical Genomics\\r\\n##Flow Cell: H7N33DSX7\\r\\n##Principal Investigator: Dr Mehdi Yeganeh, CHUS Service de génétique médicale, Dr Jean-François Soucy\\r\\n##Nanuq References: A00516_0445\\r\\n##Content: Internal_Sample_ID -> Client_Sample_Name Conversion grid\\r\\n##-------------------------------------------\\r\\n##Internal_Sample_ID\\tClient_Sample_Name\\r\\n##-------------------------------------------\\r\\n22256\\t3042652455\\r\\n22257\\t3042642360\\r\\n22258\\t3042645886\\r\\n22262\\t3052768938\\r\\n22263\\t3052768942\\r\\n22264\\t3052768961\\r\\n22265\\t3052768951\\r\\n22282\\t23-05982-T1\\r\\n22283\\t23-06383-T1\\r\\n22284\\t23-06384-T1\\r\\n22285\\tGM231615\\r\\n22286\\tGM231624\\r\\n22287\\tGM231626\\r\\n22288\\tGM231627\\r\\n22290\\tGM231632\\r\\n22293\\tGM231651\\r\\n22294\\tGM231667\\r\\n22295\\tGM231668\\r\\n##-------------------------------------------\\r\\n##Description of the conversion grid:\\r\\n##A \"Client_Sample_Name\" represents the name of a sequencing sample initially assigned by the client.\\r\\n##The \"Internal_Sample_ID\" is the internal identifier assigned by the Center for this sample.\\r\\n##Use of an \"Internal_Sample_ID\" ensures the traceability of this sample throughout the sequencing\\r\\n##process, but also the anonymization of the information generated and transferred in the\\r\\n##frame of this project.\\r\\n'"
      ]
     },
     "execution_count": 18,
     "metadata": {},
     "output_type": "execute_result"
    }
   ],
   "source": [
    "nq = Nanuq()\n",
    "samplenames = nq.get_samplenames(\"A00516_0445\")\n",
    "samplenames.text"
   ]
  },
  {
   "cell_type": "code",
   "execution_count": null,
   "metadata": {},
   "outputs": [],
   "source": []
  }
 ],
 "metadata": {
  "kernelspec": {
   "display_name": "dev",
   "language": "python",
   "name": "python3"
  },
  "language_info": {
   "codemirror_mode": {
    "name": "ipython",
    "version": 3
   },
   "file_extension": ".py",
   "mimetype": "text/x-python",
   "name": "python",
   "nbconvert_exporter": "python",
   "pygments_lexer": "ipython3",
   "version": "3.11.5"
  },
  "orig_nbformat": 4
 },
 "nbformat": 4,
 "nbformat_minor": 2
}
