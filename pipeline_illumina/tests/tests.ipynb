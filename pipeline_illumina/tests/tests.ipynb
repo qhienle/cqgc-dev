{
 "cells": [
  {
   "cell_type": "markdown",
   "metadata": {},
   "source": [
    "# Tests"
   ]
  },
  {
   "cell_type": "code",
   "execution_count": 4,
   "metadata": {},
   "outputs": [
    {
     "data": {
      "text/plain": [
       "{'run': 'LH00336_0006', 'level': 'debug'}"
      ]
     },
     "execution_count": 4,
     "metadata": {},
     "output_type": "execute_result"
    }
   ],
   "source": [
    "import os\n",
    "import sys\n",
    "import logging\n",
    "import requests\n",
    "import json\n",
    "import re\n",
    "import pandas as pd\n",
    "\n",
    "sys.path.append(os.path.dirname(os.path.dirname(os.getcwd())))\n",
    "from lib.nanuq import Nanuq\n",
    "from lib.gapp import Phenotips\n",
    "from lib.gapp import BSSH\n",
    "from lib.samplesheet import SampleSheet\n",
    "\n",
    "nq    = Nanuq()\n",
    "pho   = Phenotips()\n",
    "bssh  = BSSH()\n",
    "\n",
    "class Args:\n",
    "    # Simulate an argparse instance\n",
    "    #\n",
    "    def __init__(self, run='LH00336_0006', level='info'):\n",
    "        self.run   = run\n",
    "        self.level = level\n",
    "\n",
    "args = Args(level='debug')\n",
    "vars(args)"
   ]
  },
  {
   "cell_type": "code",
   "execution_count": 5,
   "metadata": {},
   "outputs": [
    {
     "data": {
      "text/plain": [
       "['ds.add451fb133443ca96c46b956102c1e7']"
      ]
     },
     "execution_count": 5,
     "metadata": {},
     "output_type": "execute_result"
    }
   ],
   "source": [
    "biosample = \"25335\"\n",
    "biosampleid = bssh.get_biosample_id(biosample)\n",
    "datasets    = bssh.get_dataset_id(biosampleid)\n",
    "datasets"
   ]
  },
  {
   "cell_type": "code",
   "execution_count": 18,
   "metadata": {},
   "outputs": [
    {
     "ename": "SyntaxError",
     "evalue": "f-string: unmatched '[' (3831853880.py, line 8)",
     "output_type": "error",
     "traceback": [
      "\u001b[1;36m  Cell \u001b[1;32mIn[18], line 8\u001b[1;36m\u001b[0m\n\u001b[1;33m    print(f\"{item0[\"Project\"][\"Id\"]} {item0[\"Project\"][\"Name\"]}\")\u001b[0m\n\u001b[1;37m                    ^\u001b[0m\n\u001b[1;31mSyntaxError\u001b[0m\u001b[1;31m:\u001b[0m f-string: unmatched '['\n"
     ]
    }
   ],
   "source": [
    "endpoint = '/v2/datasets/'\n",
    "url      = bssh.server + endpoint\n",
    "payload  = {'inputbiosamples': {biosampleid}} # , 'datasettypes': ''}\n",
    "response = requests.get(url, headers=bssh.headers, params=payload)\n",
    "response.raise_for_status\n",
    "\n",
    "item0 = response.json().get('Items')[0]\n",
    "print(f\"{item0['Project']['Id']} {item0['Project']['Name']}\")\n",
    "print(json.dumps(item0[\"Project\"], indent=2))"
   ]
  },
  {
   "cell_type": "code",
   "execution_count": null,
   "metadata": {},
   "outputs": [],
   "source": [
    "content = nq.get_samplesheet('LH00336_0009').text.splitlines()\n",
    "print(content[1:10])"
   ]
  },
  {
   "cell_type": "code",
   "execution_count": null,
   "metadata": {},
   "outputs": [],
   "source": [
    "# Get authorization token from Emedgene\n",
    "# Please note - the Authorization header is only valid for a limited time, and\n",
    "# expires after 8H. In that case, any request made with an expired token will \n",
    "# return a 403 code. To resolve, re-do the Login procedure to get a new token.\n",
    "#\n",
    "url      = \"https://chusaintejustine.emedgene.com/api/auth/api_login/\"\n",
    "payload  = '{\"username\": \"cqgc.bioinfo.hsj@ssss.gouv.qc.ca\", \"password\": \"3175CoteSainte-Catherine\"}'\n",
    "headers  = {'Content-Type': 'application/json'}\n",
    "response = requests.request(\"POST\", url, headers=headers, data=payload)\n",
    "auth_header = response.json()[\"Authorization\"]\n",
    "auth_header\n"
   ]
  },
  {
   "cell_type": "code",
   "execution_count": null,
   "metadata": {},
   "outputs": [],
   "source": [
    "# Get case for EMG634551172 (GM240123)\n",
    "#\n",
    "case_id = \"EMG634551172\"\n",
    "get_test_response = requests.get(f'https://chusaintejustine.emedgene.com/api/test/{case_id}/', json={}, headers={'Authorization': auth_header})\n",
    "get_test_response.json().keys()\n"
   ]
  },
  {
   "cell_type": "code",
   "execution_count": null,
   "metadata": {
    "vscode": {
     "languageId": "shellscript"
    }
   },
   "outputs": [],
   "source": [
    "# Transfer files to aws\n",
    "# --profile \"emedgene\" or \"emedgene-eval\"\n",
    "aws s3 ls --profile emedgene-eval s3://cac1-prodca-emg-downloads/Ste_Justine_eval/upload"
   ]
  },
  {
   "cell_type": "code",
   "execution_count": null,
   "metadata": {},
   "outputs": [],
   "source": []
  }
 ],
 "metadata": {
  "kernelspec": {
   "display_name": "dev",
   "language": "python",
   "name": "python3"
  },
  "language_info": {
   "codemirror_mode": {
    "name": "ipython",
    "version": 3
   },
   "file_extension": ".py",
   "mimetype": "text/x-python",
   "name": "python",
   "nbconvert_exporter": "python",
   "pygments_lexer": "ipython3",
   "version": "3.11.5"
  },
  "orig_nbformat": 4
 },
 "nbformat": 4,
 "nbformat_minor": 2
}
