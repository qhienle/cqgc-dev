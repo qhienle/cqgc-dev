{
 "cells": [
  {
   "cell_type": "markdown",
   "metadata": {},
   "source": [
    "# Tests"
   ]
  },
  {
   "cell_type": "code",
   "execution_count": 23,
   "metadata": {},
   "outputs": [
    {
     "data": {
      "text/plain": [
       "{'run': '20240510_LH00336_0043_A22K5KMLT3', 'level': 'debug'}"
      ]
     },
     "execution_count": 23,
     "metadata": {},
     "output_type": "execute_result"
    }
   ],
   "source": [
    "import os\n",
    "import sys\n",
    "import logging\n",
    "import datetime\n",
    "import requests\n",
    "import json\n",
    "import re\n",
    "import pandas as pd\n",
    "\n",
    "sys.path.append(os.path.dirname(os.path.dirname(os.getcwd())))\n",
    "from lib.nanuq import Nanuq\n",
    "from lib.gapp import Phenotips\n",
    "from lib.gapp import BSSH\n",
    "from lib.samplesheet import SampleSheet\n",
    "\n",
    "nq    = Nanuq()\n",
    "pho   = Phenotips()\n",
    "bssh  = BSSH()\n",
    "\n",
    "class Args:\n",
    "    # Simulate an argparse instance\n",
    "    #\n",
    "    def __init__(self, run='20240510_LH00336_0043_A22K5KMLT3', level='info'):\n",
    "        self.run   = run\n",
    "        self.level = level\n",
    "\n",
    "args = Args(level='debug')\n",
    "vars(args)"
   ]
  },
  {
   "cell_type": "code",
   "execution_count": 9,
   "metadata": {},
   "outputs": [],
   "source": [
    "biosample     = \"25335\"\n",
    "biosamplename = \"MO-24-003080\"\n",
    "biosampleid   = bssh.get_biosampleid(biosample)"
   ]
  },
  {
   "cell_type": "code",
   "execution_count": 13,
   "metadata": {},
   "outputs": [
    {
     "name": "stderr",
     "output_type": "stream",
     "text": [
      "d:\\HSJ\\Workspace\\cqgc-dev\\lib\\gapp.py:484: UserWarning: WARNING: Found more than one dataset for 2275456\n",
      "  warnings.warn(f\"WARNING: Found more than one dataset for {biosampleid}\")\n"
     ]
    },
    {
     "data": {
      "text/plain": [
       "['/projects/3703702/biosamples/2275456/datasets/ds.16ef9da98da745bf9f51c57e89c282f6/sequenced files/135667656',\n",
       " '/projects/3703702/biosamples/2275456/datasets/ds.16ef9da98da745bf9f51c57e89c282f6/sequenced files/135667657',\n",
       " '/projects/3703702/biosamples/2275456/datasets/ds.c9d163e092094f2b86a069af1c103bb7/sequenced files/135667644',\n",
       " '/projects/3703702/biosamples/2275456/datasets/ds.c9d163e092094f2b86a069af1c103bb7/sequenced files/135667645',\n",
       " '/projects/3703702/biosamples/2275456/datasets/ds.5da4765e9ef649a0bd0feb1afdf5390e/sequenced files/135667616',\n",
       " '/projects/3703702/biosamples/2275456/datasets/ds.5da4765e9ef649a0bd0feb1afdf5390e/sequenced files/135667617',\n",
       " '/projects/3703702/biosamples/2275456/datasets/ds.d671465658bf428b9db4fc6ba0b2bda4/sequenced files/135667614',\n",
       " '/projects/3703702/biosamples/2275456/datasets/ds.d671465658bf428b9db4fc6ba0b2bda4/sequenced files/135667615']"
      ]
     },
     "execution_count": 13,
     "metadata": {},
     "output_type": "execute_result"
    }
   ],
   "source": [
    "datasets = bssh.get_datasets(biosampleid)\n",
    "bssh.get_sequenced_files(20756)"
   ]
  },
  {
   "cell_type": "code",
   "execution_count": 4,
   "metadata": {},
   "outputs": [
    {
     "data": {
      "text/plain": [
       "<bound method Response.raise_for_status of <Response [200]>>"
      ]
     },
     "execution_count": 4,
     "metadata": {},
     "output_type": "execute_result"
    }
   ],
   "source": [
    "endpoint = '/v2/datasets/'\n",
    "url      = bssh.server + endpoint\n",
    "payload  = {'inputbiosamples': {biosampleid}} # , 'datasettypes': ''}\n",
    "response = requests.get(url, headers=bssh.headers, params=payload)\n",
    "response.raise_for_status\n",
    "\n",
    "# item0 = response.json().get('Items')[0]\n",
    "# print(f\"{item0['Project']['Id']} {item0['Project']['Name']}\")\n",
    "# print(json.dumps(item0[\"Project\"], indent=2))"
   ]
  },
  {
   "cell_type": "code",
   "execution_count": 5,
   "metadata": {},
   "outputs": [],
   "source": [
    "def get_datasets(self, biosampleid):\n",
    "    \"\"\"\n",
    "    Get BSSH dataset ID, project ID and project Name for `biosampleid`.\n",
    "    - `biosampleid`: [str], Id of biosample\n",
    "    - Returns: [list] of tuples \n",
    "    \"\"\"\n",
    "    endpoint = '/v2/datasets/'\n",
    "    url      = self.server + endpoint\n",
    "    payload  = {'inputbiosamples': {biosampleid}} # , 'datasettypes': ''}\n",
    "    # FastQ uploaded using CLI has DatasetTypes.ID 'illumina.fastq.v1.8' \n",
    "    # while the ones created by BCL Convert have the type 'common.fastq'.\n",
    "\n",
    "    response = requests.get(url, headers=self.headers, params=payload)\n",
    "    response.raise_for_status\n",
    "\n",
    "    items  = response.json().get('Items')\n",
    "    counts = response.json().get('Paging')['TotalCount']\n",
    "\n",
    "    datasets = []\n",
    "    if len(items) != counts:\n",
    "        logging.warning(f\"WARNING: Found {len(items)} datasets but expected {counts} for {biosampleid}\")\n",
    "    for item in items:\n",
    "        datasets.append((item['Id'], item['Project']['Id'], item['Project']['Name']))\n",
    "    if len(datasets) != 1:\n",
    "        logging.warning(f\"WARNING: Found more than one dataset for {biosampleid}\")\n",
    "    return datasets"
   ]
  },
  {
   "cell_type": "code",
   "execution_count": 6,
   "metadata": {},
   "outputs": [
    {
     "name": "stdout",
     "output_type": "stream",
     "text": [
      "ds.add451fb133443ca96c46b956102c1e7 5412410 PRAGMatIQ_CUSM\n"
     ]
    }
   ],
   "source": [
    "datasets = get_datasets(bssh, biosampleid)\n",
    "for dataset in datasets:\n",
    "    datasetid, projectid, projectname = dataset\n",
    "    print(f\"{datasetid} {projectid} {projectname}\")"
   ]
  },
  {
   "cell_type": "code",
   "execution_count": null,
   "metadata": {},
   "outputs": [],
   "source": [
    "content = nq.get_samplesheet('LH00336_0009').text.splitlines()\n",
    "print(content[1:10])"
   ]
  },
  {
   "cell_type": "code",
   "execution_count": null,
   "metadata": {},
   "outputs": [],
   "source": [
    "# Get authorization token from Emedgene\n",
    "# Please note - the Authorization header is only valid for a limited time, and\n",
    "# expires after 8H. In that case, any request made with an expired token will \n",
    "# return a 403 code. To resolve, re-do the Login procedure to get a new token.\n",
    "#\n",
    "url      = \"https://chusaintejustine.emedgene.com/api/auth/api_login/\"\n",
    "payload  = '{\"username\": \"cqgc.bioinfo.hsj@ssss.gouv.qc.ca\", \"password\": \"3175CoteSainte-Catherine\"}'\n",
    "headers  = {'Content-Type': 'application/json'}\n",
    "response = requests.request(\"POST\", url, headers=headers, data=payload)\n",
    "auth_header = response.json()[\"Authorization\"]\n",
    "auth_header\n"
   ]
  },
  {
   "cell_type": "code",
   "execution_count": null,
   "metadata": {},
   "outputs": [],
   "source": [
    "# Get case for EMG634551172 (GM240123)\n",
    "#\n",
    "case_id = \"EMG634551172\"\n",
    "get_test_response = requests.get(f'https://chusaintejustine.emedgene.com/api/test/{case_id}/', json={}, headers={'Authorization': auth_header})\n",
    "get_test_response.json().keys()\n"
   ]
  },
  {
   "cell_type": "code",
   "execution_count": null,
   "metadata": {
    "vscode": {
     "languageId": "shellscript"
    }
   },
   "outputs": [],
   "source": [
    "# Transfer files to aws\n",
    "# --profile \"emedgene\" or \"emedgene-eval\"\n",
    "aws s3 ls --profile emedgene-eval s3://cac1-prodca-emg-downloads/Ste_Justine_eval/upload"
   ]
  },
  {
   "cell_type": "code",
   "execution_count": null,
   "metadata": {},
   "outputs": [],
   "source": []
  }
 ],
 "metadata": {
  "kernelspec": {
   "display_name": "dev",
   "language": "python",
   "name": "python3"
  },
  "language_info": {
   "codemirror_mode": {
    "name": "ipython",
    "version": 3
   },
   "file_extension": ".py",
   "mimetype": "text/x-python",
   "name": "python",
   "nbconvert_exporter": "python",
   "pygments_lexer": "ipython3",
   "version": "3.11.9"
  },
  "orig_nbformat": 4
 },
 "nbformat": 4,
 "nbformat_minor": 2
}
