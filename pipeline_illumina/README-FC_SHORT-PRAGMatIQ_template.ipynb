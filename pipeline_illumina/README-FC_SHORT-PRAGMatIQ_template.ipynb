{
 "cells": [
  {
   "cell_type": "markdown",
   "metadata": {},
   "source": [
    "# FLOWCELL | OPERATION\n",
    "\n",
    "[2024-05-09] Suivi des opérations. Renseigner les noms de la _flowcell_ et de l'exérience (informations dans la SampleSheet, communiquées par courriel du CQGC ou récupérées de BaseSpace).\n",
    "\n",
    "0. Mise-en-place de l'environnement de travail\n",
    "1. Collecter les informations sur les familles et les métriques DragenGermline\n",
    "2. Téléverser les FASTQs sur BaseSpace\n",
    "3. Créer les cas sur Emedgene \n",
    "    1. Générer le fichier \"emg_batch_manifest.csv\" `emg_make_batch_from_nanuq.py ${FC}`\n",
    "    2. Glisser-déposer dans Emedgene le fichier \"emg_batch_manifest.csv\"\n",
    "4. Archiver les résultats\n",
    "5. Nettoyage\n",
    "\n",
    "\n",
    "## TROUBLESHOOTING\n",
    "\n",
    "- Afin de connecter les informations génétiques des familles (issues de Nanuq) aux phénotypes (termes HPOs contenus dans Phenotips), il est impératif que les deux champs EP (Établissement Public) et MRN (Medical Record Number) soient bien renseignés dans les deux systèmes par les collègues. Sinon, il faut obtenir les informations de Phenotips (identifiants PID) par \"Camille Varin-Tremblay (HSJ)\" <camille.varin-tremblay.hsj@ssss.gouv.qc.ca>.\n",
    "- Si le séquençage est réalisé avec le NovaSeq6000, il ne sera malheureusement pas possible de récupérer les métriques avant de créer les cas dans Emedgene. Dans ce cas, il faut s'assurer que le labo a demandé au NovaSeq6000 de faire la déconvolution sur BaseSpace et passer à l'étape 3, \"créer les cas sur Emedgene\", une fois que les FASTQs ont été générés (suivi sur l'onglet [Analyses](https://chusj.cac1.sh.basespace.illumina.com/analyses)). \n",
    "- Dans la situation où la déconvolution n'a pas lieu sur BaseSpace, il faut déconvoluer les BCLs avec les serveurs DRAGEN du CQGC et envoyer les FASTQs résultants sur BaseSpace (passer à l'étape 2, \"Téléverser les FASTQs sur BaseSpace\").\n"
   ]
  },
  {
   "cell_type": "code",
   "execution_count": null,
   "metadata": {
    "vscode": {
     "languageId": "shellscript"
    }
   },
   "outputs": [],
   "source": [
    "## 0. Mise en place de l'environnement de travail\n",
    "# ssh ${USER}@10.128.80.26 # Renseigner la valeur de ${FC}\n",
    "\n",
    "screen -S prag\n",
    "conda activate CQGC-utils\n",
    "\n",
    "export FC=\"\"\n",
    "a=($(echo ${FC} | tr '_' '\\n'))\n",
    "export FC_SHORT=\"${a[1]}_${a[2]}\"\n",
    "export BASEDIR=\"/mnt/spxp-app02/staging/hiseq_raw/${a[1]}\"\n",
    "export WORKDIR=\"/mnt/spxp-app02/staging2/dragen\"\n"
   ]
  },
  {
   "cell_type": "code",
   "execution_count": null,
   "metadata": {
    "vscode": {
     "languageId": "shellscript"
    }
   },
   "outputs": [],
   "source": [
    "## 1. Collecter les metriques\n",
    "\n",
    "mkdir ${WORKDIR}/${FC_SHORT} && cd \"$_\"\n",
    "python /staging2/soft/CQGC-utils/Analysis.pipeline_illumina/emg_collect_dragen_metrics.py ${FC}"
   ]
  },
  {
   "cell_type": "markdown",
   "metadata": {},
   "source": [
    "Récupérer les métriques et le fichier \"samples_list.csv\" générés par la commande ci-dessus. \n",
    "\n",
    "```PowerShell:\n",
    "$FC_SHORT=\"\"\n",
    "Set-Location D:\\HSJ\\Projects\\PRAGMatIQ\\Runs\\$FC_SHORT\n",
    "scp hienle@10.128.80.26:/mnt/spxp-app02/staging2/dragen/$FC_SHORT/* .\n",
    "```\n",
    "\n",
    "Envoyer les fichiers `${FC_SHORT}_metrics.csv` et `${FC_SHORT}_metrics.html` dans un courriel aux personnes responsables:\n",
    "\n",
    "- \"Dr Jacques Michaud (HSJ)\" <jacques.michaud.med@ssss.gouv.qc.ca>\n",
    "- \"Camille Varin-Tremblay (HSJ)\" <camille.varin-tremblay.hsj@ssss.gouv.qc.ca>\n",
    "- \"Rene Allard (HSJ)\" <rene.allard.hsj@ssss.gouv.qc.ca>\n",
    "\n",
    "Si les métriques passent les critères d'acceptabilité, procéder au téléversement des FASTQs dans BaseSpace. Sinon, attendre la réponse des responsables et, s'il y a lieu, supprimer les échantillons de mauvaise qualité de `samples_list.csv` avant de procéder.\n"
   ]
  },
  {
   "cell_type": "code",
   "execution_count": null,
   "metadata": {
    "vscode": {
     "languageId": "shellscript"
    }
   },
   "outputs": [],
   "source": [
    "## 2. Upload FASTQ sur BaseSpace\n",
    "\n",
    "cd ${WORKDIR}/${FC_SHORT}\n",
    "python /staging2/soft/CQGC-utils/Analysis.pipeline_illumina/emg_upload_fastqs.py"
   ]
  },
  {
   "cell_type": "code",
   "execution_count": null,
   "metadata": {
    "vscode": {
     "languageId": "shellscript"
    }
   },
   "outputs": [],
   "source": [
    "## 3. Créer les cas sur Emedgene \n",
    "###  1. Générer le fichier \"emg_batch_manifest.csv\" `emg_make_batch_from_nanuq.py ${FC}`\n",
    "###  2. Glisser-déposer dans Emedgene le fichier \"emg_batch_manifest.csv\"\n",
    "\n",
    "cd ${WORKDIR}\n",
    "python /staging2/soft/CQGC-utils/Analysis.pipeline_illumina/emg_make_batch_from_nanuq.py ${FC_SHORT} 2>&1 | tee ${FC_SHORT}/emg_make_batch.log"
   ]
  },
  {
   "cell_type": "code",
   "execution_count": null,
   "metadata": {
    "vscode": {
     "languageId": "shellscript"
    }
   },
   "outputs": [],
   "source": [
    "## 4. Archiver les résultats\n",
    "\n",
    "ssh hien@narval.calculquebec.ca\n",
    "\n",
    "samples=()\n",
    "total_samples=${#samples[@]}\n",
    "\n",
    "cd ${HOME}/projects/ctb-rallard/COMMUN/PRAGMatIQ-EMG\n",
    "cp archive_PRAGMatIQ.log archive_PRAGMatIQ.log0\n",
    "\n",
    "count=1\n",
    "for sample in ${samples[@]}; do\n",
    "    echo \"Processing sample ${count}/${total_samples}, ${sample}\"\n",
    "    aws s3 --profile emedgene cp s3://cac1-prodca-emg-auto-results/CHU_Sainte_Justine/${sample}/ ./archives/${sample} --recursive\n",
    "    echo ${sample} $( date +'%Y-%m-%d %T' ) >> archive_PRAGMatIQ.log\n",
    "    ((count++))\n",
    "done"
   ]
  },
  {
   "cell_type": "code",
   "execution_count": null,
   "metadata": {
    "vscode": {
     "languageId": "shellscript"
    }
   },
   "outputs": [],
   "source": [
    "# 5. Nettoyage\n",
    "# Avant d'effacer le répertoire de la run, otifier le laboratoire qui doit sauvegarder quelqeues métriques\n",
    "\n",
    "`rm -R ${BASEDIR}/${FC}`"
   ]
  },
  {
   "cell_type": "markdown",
   "metadata": {},
   "source": [
    "## Logs"
   ]
  }
 ],
 "metadata": {
  "language_info": {
   "name": "python"
  }
 },
 "nbformat": 4,
 "nbformat_minor": 2
}
