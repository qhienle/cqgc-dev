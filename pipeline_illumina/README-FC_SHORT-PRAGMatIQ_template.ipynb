{
 "cells": [
  {
   "cell_type": "markdown",
   "metadata": {},
   "source": [
    "# FLOWCELL | OPERATION\n",
    "\n",
    "[AAAA-MM-JJ] Suivi des opérations. Renseigner les noms de la _flowcell_ et de l'exérience (informations dans la SampleSheet, communiquées par courriel du CQGC ou récupérées de BaseSpace).\n",
    "\n",
    "Cette ligne et les suivantes de cette cellule sont à titre informatives et peuvent être supprimées du journal.\n",
    "\n",
    "0. Mise-en-place de l'environnement de travail\n",
    "    1. Déconvoluer et convertir les BCLs en FASTQs `dragen_bcl-convert_watcher.sh`\n",
    "1. Préparer les cas `run_pipeline_prag.sh`\n",
    "    1. Collecter les informations sur les familles\n",
    "    2. Téléverser les FASTQs sur BaseSpace\n",
    "    3. Générer le fichier \"emg_batch_manifest.csv\"\n",
    "2. Glisser-déposer le fichier \"emg_batch_manifest.csv\" dans Emedgene\n",
    "    1. S'authentifier sur [Emedgene](https://chusaintejustine.emedgene.com/)\n",
    "    2. Cliquer sur _+ New Case > Switch to batch_ (coin supérieur droit)\n",
    "    3. Glisser-déposer le fichier \"emg_batch_manifest.csv\" dans la section _Select file_\n",
    "3. Collecter les metriques\n",
    "4. Archiver les résultats\n",
    "5. Nettoyer\n",
    "\n",
    "_C.f._ `README-PRAGMatIQ_Process.md` pour plus de détails et le dépannage."
   ]
  },
  {
   "cell_type": "code",
   "execution_count": null,
   "metadata": {
    "vscode": {
     "languageId": "shellscript"
    }
   },
   "outputs": [],
   "source": [
    "## 0. Mise en place de l'environnement de travail\n",
    "# ssh ${USER}@10.128.80.26\n",
    "\n",
    "screen -S prag\n",
    "conda activate CQGC-utils\n",
    "export FC=\"\"\n",
    "export XP=\"\"\n",
    "a=($(echo ${FC} | tr '_' '\\n'))\n",
    "export BASEDIR=\"/mnt/vs_nas_chusj/CQGC_PROD/sequenceurs/${a[1]}\"\n",
    "export WORKDIR=\"/mnt/spxp-app02/staging2/dragen\"\n",
    "\n",
    "## 1. Préparer les cas\n",
    "## Normalement, le demux est automatique par \"dragen_bcl-convert_watcher.sh\" en cron\n",
    "## Le pipeline téléverse les FASTQs sur BaseSpace et prépare \"emg_batch_manifest.csv\"\n",
    "## à partir de \"samples_list.csv\" qu'il construit avec les informations dans Nanuq.\n",
    "\n",
    "mkdir ${WORKDIR}/${FC} && cd $_\n",
    "bash /staging2/soft/CQGC-utils/Analysis.pipeline_illumina/run_pipeline_prag.sh ${FC} 2>&1 | tee run_pipeline_prag.log\n",
    "echo \"delta\"\n",
    "\n",
    "## 2. Glisser-déposer le fichier \"emg_batch_manifest.csv\" dans [Emedgene](https://chusaintejustine.emedgene.com/)"
   ]
  },
  {
   "cell_type": "code",
   "execution_count": null,
   "metadata": {
    "vscode": {
     "languageId": "shellscript"
    }
   },
   "outputs": [],
   "source": [
    "## 3. Collecter les metriques\n",
    "\n",
    "python /staging2/soft/CQGC-utils/Analysis.pipeline_illumina/emg_collect_samples_metrics.py ${FC}"
   ]
  },
  {
   "cell_type": "code",
   "execution_count": null,
   "metadata": {
    "vscode": {
     "languageId": "shellscript"
    }
   },
   "outputs": [],
   "source": [
    "## 4. Archiver les résultats\n",
    "\n",
    "ssh hien@narval.calculquebec.ca\n",
    "\n",
    "samples=()\n",
    "total_samples=${#samples[@]}\n",
    "\n",
    "cd ${HOME}/projects/ctb-rallard/COMMUN/PRAGMatIQ-EMG\n",
    "cp archive_PRAGMatIQ.log archive_PRAGMatIQ.log0\n",
    "\n",
    "count=1\n",
    "for sample in ${samples[@]}; do\n",
    "    echo \"Processing sample ${count}/${total_samples}, ${sample}\"\n",
    "    aws s3 --profile emedgene cp s3://cac1-prodca-emg-auto-results/CHU_Sainte_Justine/${sample}/ ./archives/${sample} --recursive\n",
    "    echo ${sample} $( date +'%Y-%m-%d %T' ) >> archive_PRAGMatIQ.log\n",
    "    ((count++))\n",
    "done"
   ]
  },
  {
   "cell_type": "code",
   "execution_count": null,
   "metadata": {
    "vscode": {
     "languageId": "shellscript"
    }
   },
   "outputs": [],
   "source": [
    "# 6. Nettoyer\n",
    "# Avant d'effacer le répertoire de la run, otifier le laboratoire qui doit sauvegarder quelqeues métriques\n",
    "\n",
    "`rm -R ${BASEDIR}/${FC}`"
   ]
  },
  {
   "cell_type": "markdown",
   "metadata": {},
   "source": [
    "## Logs"
   ]
  }
 ],
 "metadata": {
  "language_info": {
   "name": "python"
  }
 },
 "nbformat": 4,
 "nbformat_minor": 2
}
