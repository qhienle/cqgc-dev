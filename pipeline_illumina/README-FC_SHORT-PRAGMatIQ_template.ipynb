{
 "cells": [
  {
   "cell_type": "markdown",
   "metadata": {},
   "source": [
    "# FLOWCELL | OPERATION (facultatif)\n",
    "\n",
    "[AAAA-MM-JJ] Suivi des opérations. \n",
    "\n",
    "Renseigner les noms de la _flowcell_ et de l'expérience (informations dans la SampleSheet `bs -c cac1 list runs --newer-than 3d --filter-term PRAG --filter-field ExperimentName`). Cette ligne et les suivantes de cette cellule sont à titre informatives et peuvent être supprimées du journal.\n",
    "\n",
    "0. Mise-en-place de l'environnement de travail\n",
    "    1. Déconvoluer et convertir les BCLs en FASTQs (automatique, `dragen_bcl-convert_watcher.sh`)\n",
    "1. Préparer les cas `run_pipeline_prag.sh`\n",
    "    1. Collecter les informations sur les familles\n",
    "    2. Téléverser les FASTQs sur BaseSpace\n",
    "    3. Générer le fichier \"emg_batch_manifest.csv\"\n",
    "2. Glisser-déposer le fichier \"emg_batch_manifest.csv\" dans Emedgene\n",
    "    1. S'authentifier sur [Emedgene](https://chusaintejustine.emedgene.com/)\n",
    "    2. Cliquer sur _+ New Case > Switch to batch_ (coin supérieur droit)\n",
    "    3. Glisser-déposer le fichier \"emg_batch_manifest.csv\" dans la section _Select file_\n",
    "3. Collecter les metriques\n",
    "4. Archiver les résultats\n",
    "5. Nettoyer\n",
    "\n",
    "_C.f._ `README-PRAGMatIQ_Process.md` pour plus de détails et le dépannage."
   ]
  },
  {
   "cell_type": "code",
   "execution_count": null,
   "metadata": {
    "vscode": {
     "languageId": "shellscript"
    }
   },
   "outputs": [],
   "source": [
    "## 0. Mise en place de l'environnement de travail\n",
    "# ssh ${USER}@10.128.80.26\n",
    "# Pour connaître l'identifiant FC et XP\n",
    "bs -c cac1 list runs --newer-than 3d --filter-term PRAG --filter-field ExperimentName\n",
    "screen -S prag\n",
    "\n",
    "conda deactivate && conda activate CQGC-utils\n",
    "export FC=\"\" # Ex.: 20250613_LH00336_0223_A232CFLLT3\n",
    "a=($(echo ${FC} | tr '_' '\\n')) \n",
    "export BASEDIR=\"/mnt/vs_nas_chusj/CQGC_PROD/sequenceurs/${a[1]}\"\n",
    "export WORKDIR=\"/mnt/vs_nas_chusj/CQGC_PROD/fastqs\"\n",
    "export SOFTDIR='/mnt/spxp-app02/staging2/soft/CQGC-utils'\n"
   ]
  },
  {
   "cell_type": "code",
   "execution_count": null,
   "metadata": {
    "vscode": {
     "languageId": "shellscript"
    }
   },
   "outputs": [],
   "source": [
    "## 1. Préparer les cas\n",
    "## Le pipeline téléverse les FASTQs sur BaseSpace et prépare \"emg_batch_manifest.csv\",\n",
    "## qu'il construit à partir des informations dans \"samples_list.csv\", prises de Nanuq.\n",
    "\n",
    "if [[ ! -d \"${WORKDIR}/${FC}\" ]]; then mkdir ${WORKDIR}/${FC}; fi\n",
    "cd ${WORKDIR}/${FC}\n",
    "bash ${SOFTDIR}/Analysis.pipeline_illumina/run_pipeline_prag.sh ${FC} 2>&1 | tee ${WORKDIR}/${FC}/run_pipeline_prag.log\n",
    "\n",
    "## 2. Glisser-déposer le fichier \"emg_batch_manifest.csv\" dans [Emedgene](https://chusaintejustine.emedgene.com/) (New Case > Switch to batch)"
   ]
  },
  {
   "cell_type": "code",
   "execution_count": null,
   "metadata": {
    "vscode": {
     "languageId": "shellscript"
    }
   },
   "outputs": [],
   "source": [
    "## 3. Collecter les metriques\n",
    "\n",
    "python /staging2/soft/CQGC-utils/Analysis.pipeline_illumina/emg_collect_samples_metrics.py ${FC}"
   ]
  },
  {
   "cell_type": "code",
   "execution_count": null,
   "metadata": {
    "vscode": {
     "languageId": "shellscript"
    }
   },
   "outputs": [],
   "source": [
    "## 4. Archiver les résultats\n",
    "\n",
    "ssh hien@narval.calculquebec.ca\n",
    "\n",
    "samples=()\n",
    "total_samples=${#samples[@]}\n",
    "\n",
    "cd ${HOME}/projects/ctb-rallard/COMMUN/PRAGMatIQ-EMG\n",
    "cp archive_PRAGMatIQ.log archive_PRAGMatIQ.log0\n",
    "\n",
    "count=1\n",
    "for sample in ${samples[@]}; do\n",
    "    echo \"Processing sample ${count}/${total_samples}, ${sample}\"\n",
    "    aws s3 --profile emedgene cp s3://cac1-prodca-emg-auto-results/CHU_Sainte_Justine/${sample}/ ./archives/${sample} --recursive\n",
    "    echo ${sample} $( date +'%Y-%m-%d %T' ) >> archive_PRAGMatIQ.log\n",
    "    ((count++))\n",
    "done"
   ]
  },
  {
   "cell_type": "code",
   "execution_count": null,
   "metadata": {
    "vscode": {
     "languageId": "shellscript"
    }
   },
   "outputs": [],
   "source": [
    "# 6. Nettoyer\n",
    "# Avant d'effacer le répertoire de la run, otifier le laboratoire qui doit sauvegarder quelqeues métriques\n",
    "\n",
    "`rm -R ${BASEDIR}/${FC}`"
   ]
  },
  {
   "cell_type": "markdown",
   "metadata": {},
   "source": [
    "## Logs\n",
    "\n",
    "[AAAA-MM-JJ] Renseigner ici les problèmes rencntrés lors du traitement de la run."
   ]
  },
  {
   "cell_type": "markdown",
   "metadata": {},
   "source": [
    "## Résolution des problèmes fréquents\n",
    "\n",
    "Pour plus de détails, voir `README-PRAGMatIQ_Process.md`, s'il vous plaît.\n",
    "\n",
    "### Récupérer les termes HPOs\n",
    "\n",
    "`python ~/workspace/cqgc-dev/Helpers/get_phenotips_hpos.py P0000844`\n",
    "\n",
    "### Déconvolution manuelle\n",
    "\n",
    "Normalement, le demux est automatique avec \"dragen_bcl-convert_watcher.sh\" en cron. Si la déconvolution par cron n'a pas lieu, utiliser le code ci-dessous."
   ]
  },
  {
   "cell_type": "code",
   "execution_count": null,
   "metadata": {
    "vscode": {
     "languageId": "shellscript"
    }
   },
   "outputs": [],
   "source": [
    "## 0.1. Demux\n",
    "## Normalement, le demux est automatique avec \"dragen_bcl-convert_watcher.sh\" en cron\n",
    "\n",
    "# python ${SOFTDIR}/Helpers/get_nanuq_files.py --run ${FC}\n",
    "# until [ -f \"${BASEDIR}/${FC}/CopyComplete.txt\" ]; do\n",
    "#     printf '.'\n",
    "#     sleep 900\n",
    "# done\n",
    "# qsub -V -o \"${WORKDIR}/${FC}/qsub_out.txt\" -e \"${WORKDIR}/${FC}/qsub_err.txt\" /staging2/soft/CQGC-utils/Helpers/dragen_bcl-convert_launcher.sh ${FC}\n"
   ]
  }
 ],
 "metadata": {
  "language_info": {
   "name": "python"
  }
 },
 "nbformat": 4,
 "nbformat_minor": 2
}
