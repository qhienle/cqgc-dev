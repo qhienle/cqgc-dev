{
 "cells": [
  {
   "cell_type": "markdown",
   "metadata": {},
   "source": [
    "# FLOWCELL | OPERATION\n",
    "\n",
    "[2024-05-09] Notez ici le suivi des opérations en commençant par modifier en titre les noms de la _flowcell_ (_e.g._.: \"230711_A00516_0433_BHKVMJDMXY\", où `${FC_SHORT}` serait dans ce cas \"A00516_0433\") et de l'exérience (\"Seq_S2_PRAG_20230711\"). Ces informations sont normalement communiqués dans un courriel du laboratoire CQGC, mais peuvent aussi être récupérées depuis BSSH (sous l'onglet \"_Runs_\"). **_N.B._** Le format `ipynb` (Jupyter Notebook) est utilisé car du code peut y être exécuté, mais un simple format `txt` ou `md` peut aussi bien servir.\n",
    "\n",
    "2. Créer les cas sur Emedgene et lancer les analyses grâce au fichier CSV.\n",
    "3. (**TODO**) Ajouter les participants _via_ l'API\n",
    "4. Collecter les métriques des analyses Emedgene `python /staging2/soft/CQGC-utils/Analysis.pipeline_illumina/emg_collect_samples_metrics.py ${FC_SHORT}`\n",
    "5. Archiver les résultats\n"
   ]
  },
  {
   "cell_type": "code",
   "execution_count": null,
   "metadata": {
    "vscode": {
     "languageId": "shellscript"
    }
   },
   "outputs": [],
   "source": [
    "# 0. Mise en place de l'environnement de travail. Il suffit seulement de renseigner \n",
    "# la valeur de FC et de copier-coller les commandes dans votre shell sur spxp-app02\n",
    "# ssh ${USER}@10.128.80.26\n",
    "\n",
    "export FC=\"\" # Renseigner le nom de la FLOWCELL \n",
    "a=($(echo ${FC} | tr '_' '\\n'))\n",
    "export FC_SHORT=\"${a[1]}_${a[2]}\"\n",
    "export BASEDIR=\"/mnt/spxp-app02/staging/hiseq_raw/${a[1]}\"\n",
    "export WORKDIR=\"/mnt/spxp-app02/staging2/dragen\"\n",
    "\n",
    "cd ${BASEDIR}\n"
   ]
  },
  {
   "cell_type": "code",
   "execution_count": null,
   "metadata": {
    "vscode": {
     "languageId": "shellscript"
    }
   },
   "outputs": [],
   "source": [
    "# Lister les échantillons et téléverser les FASTQs correspondants sur BSSH\n",
    "\n",
    "fastqdir=\"${BASEDIR}/${FC}/Analysis/1/Data/DragenGermline/fastq\"\n",
    "cd ${fastqdir}\n",
    "\n",
    "project=\"PRAGMatIQ_CHUQ\"\n",
    "projectId=$( bs -c cac1 project list --filter-term ${project} --terse )\n",
    "for sample in {26238..26243} {26367..26369}; do\n",
    "    fastqs=$( ls ${sample}_*_001.fastq.gz )\n",
    "    bs -c cac1 dataset upload --project ${projectId} --biosample-name ${sample} ${fastqs}\n",
    "done\n",
    "\n",
    "project=\"PRAGMatIQ_CHUSJ\"\n",
    "projectId=$( bs -c cac1 project list --filter-term ${project} --terse )\n",
    "for sample in {26265..26270}; do\n",
    "    fastqs=$( ls ${sample}_*_001.fastq.gz )\n",
    "    bs -c cac1 dataset upload --project ${projectId} --biosample-name ${sample} ${fastqs}\n",
    "done\n",
    "\n",
    "project=\"PRAGMatIQ_CUSM\"\n",
    "projectId=$( bs -c cac1 project list --filter-term ${project} --terse )\n",
    "for sample in {26131..26133}; do\n",
    "    fastqs=$( ls ${sample}_*_001.fastq.gz )\n",
    "    bs -c cac1 dataset upload --project ${projectId} --biosample-name ${sample} ${fastqs}\n",
    "done\n"
   ]
  },
  {
   "cell_type": "code",
   "execution_count": null,
   "metadata": {
    "vscode": {
     "languageId": "shellscript"
    }
   },
   "outputs": [],
   "source": [
    "# 1. Récupérer les informations sur les familles dans Nanuq. Le script suivant génère le fichier CSV d'entrée `emg_batch_manifest.csv`, avec les chemins d'accès aux FASTQs sur BSSH\n",
    "\n",
    "python /staging2/soft/CQGC-utils/Analysis.pipeline_illumina/emg_make_batch_from_nanuq.py ${FC_SHORT}`\n",
    "\n"
   ]
  },
  {
   "cell_type": "code",
   "execution_count": null,
   "metadata": {
    "vscode": {
     "languageId": "shellscript"
    }
   },
   "outputs": [],
   "source": [
    "# Créer le rapport avec les métriques\n",
    "\n",
    "cd D:\\HSJ\\Projects\\PRAGMatIQ\\Runs\\LH00336_0041\n",
    "python D:\\HSJ\\Workspace\\cqgc-dev\\pipeline_illumina\\emg_collect_samples_metrics.py LH00336_0041 "
   ]
  },
  {
   "cell_type": "code",
   "execution_count": null,
   "metadata": {
    "vscode": {
     "languageId": "shellscript"
    }
   },
   "outputs": [],
   "source": [
    "# Archiver les résultats\n",
    "\n",
    "ssh hien@narval.calculquebec.ca\n",
    "\n",
    "samples=()\n",
    "total_samples=${#samples[@]}\n",
    "\n",
    "cd ${HOME}/projects/ctb-rallard/COMMUN/PRAGMatIQ-EMG\n",
    "cp archive_PRAGMatIQ.log archive_PRAGMatIQ.log0\n",
    "\n",
    "count=1\n",
    "for sample in ${samples[@]}; do\n",
    "    echo \"Processing sample ${count}/${total_samples}, ${sample}\"\n",
    "    aws s3 --profile emedgene cp s3://cac1-prodca-emg-auto-results/CHU_Sainte_Justine/${sample}/ ./archives/${sample} --recursive\n",
    "    echo ${sample} $( date +'%Y-%m-%d %T' ) >> archive_PRAGMatIQ.log\n",
    "    ((count++))\n",
    "done"
   ]
  }
 ],
 "metadata": {
  "language_info": {
   "name": "python"
  }
 },
 "nbformat": 4,
 "nbformat_minor": 2
}
