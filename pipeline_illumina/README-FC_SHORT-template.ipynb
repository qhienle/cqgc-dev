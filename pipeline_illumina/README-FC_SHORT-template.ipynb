{
 "cells": [
  {
   "cell_type": "markdown",
   "metadata": {},
   "source": [
    "# FLOWCELL | OPERATION\n",
    "\n",
    "[2024-05-09] Suivi des opérations. Renseigner les noms de la _flowcell_ (_e.g._. \"230711_A00516_0433_BHKVMJDMXY\") et de l'exérience (\"Seq_S2_PRAG_20230711\"). Ces informations sont communiqués par courriel du CQGC ou peuvent être récupérées de BaseSpace.\n",
    "\n",
    "0. Mise-en-place de l'environnement de travail\n",
    "1. Collecter les informations sur les familles et les métriques DragenGermline\n",
    "2. Téléverser les FASTQs sur BaseSpace\n",
    "3. Créer les cas sur Emedgene \n",
    "    1. Générer le fichier \"emg_batch_manifest.csv\"\n",
    "    2. Glisser-déposer dans Emedgene le fichier \"emg_batch_manifest.csv\"\n",
    "    3. (**TODO**) Ajouter les participants _via_ l'API\n",
    "4. Archiver les résultats\n"
   ]
  },
  {
   "cell_type": "code",
   "execution_count": null,
   "metadata": {
    "vscode": {
     "languageId": "shellscript"
    }
   },
   "outputs": [],
   "source": [
    "## 0. Mise en place de l'environnement de travail\n",
    "# ssh ${USER}@10.128.80.26 # Renseigner la valeur de ${FC}\n",
    "\n",
    "screen -S prag\n",
    "conda activate CQGC-utils\n",
    "\n",
    "export FC=\"\"\n",
    "a=($(echo ${FC} | tr '_' '\\n'))\n",
    "export FC_SHORT=\"${a[1]}_${a[2]}\"\n",
    "export BASEDIR=\"/mnt/spxp-app02/staging/hiseq_raw/${a[1]}\"\n",
    "export WORKDIR=\"/mnt/spxp-app02/staging2/dragen\"\n"
   ]
  },
  {
   "cell_type": "code",
   "execution_count": null,
   "metadata": {
    "vscode": {
     "languageId": "shellscript"
    }
   },
   "outputs": [],
   "source": [
    "## 1. Collecter les metriques\n",
    "\n",
    "cd ${WORKDIR}\n",
    "python /staging2/soft/CQGC-utils/Analysis.pipeline_illumina/emg_collect_dragen_metrics.py ${FC}"
   ]
  },
  {
   "cell_type": "markdown",
   "metadata": {},
   "source": [
    "Récupérer les métriques et le fichier \"samples_list.csv\" générés par la commande ci-dessus. \n",
    "\n",
    "```PowerShell:\n",
    "Set-Location D:\\HSJ\\Projects\\PRAGMatIQ\\Runs\\LH00336_0073\n",
    "scp hienle@10.128.80.26:/mnt/spxp-app02/staging2/dragen/LH00336_0073/* .\n",
    "```\n",
    "Envoyer les fichiers `${FC_SHORT}_metrics.csv` et `${FC_SHORT}_metrics.html` dans un courriel aux personnes responsables:\n",
    "\n",
    "- \"Dr Jacques Michaud (HSJ)\" <jacques.michaud.med@ssss.gouv.qc.ca>\n",
    "- \"Camille Varin-Tremblay (HSJ)\" <camille.varin-tremblay.hsj@ssss.gouv.qc.ca>\n",
    "- \"Rene Allard (HSJ)\" <rene.allard.hsj@ssss.gouv.qc.ca>\n",
    "\n",
    "Si les métriques passent les critères d'acceptabilité, procéder au téléversement des FASTQs dans BaseSpace. Sinon, attendre la réponse des responsables. Dans ce cas, il faudra éventuellement supprimer les lignes correspondantes aux échantillons de mauvaise qualité du fichier `samples_list.csv` avant de procéder aux prochaines étapes.\n"
   ]
  },
  {
   "cell_type": "code",
   "execution_count": null,
   "metadata": {
    "vscode": {
     "languageId": "shellscript"
    }
   },
   "outputs": [],
   "source": [
    "## 2. Upload FASTQ sur BaseSpace\n",
    "\n",
    "cd ${WORKDIR}/${FC_SHORT}\n",
    "python /staging2/soft/CQGC-utils/Analysis.pipeline_illumina/emg_upload_fastqs.py"
   ]
  },
  {
   "cell_type": "code",
   "execution_count": null,
   "metadata": {
    "vscode": {
     "languageId": "shellscript"
    }
   },
   "outputs": [],
   "source": [
    "## 3. Générer le fichier `emg_batch_manifest.csv`\n",
    "\n",
    "python /staging2/soft/CQGC-utils/Analysis.pipeline_illumina/emg_make_batch_from_nanuq.py ${FC_SHORT}`"
   ]
  },
  {
   "cell_type": "markdown",
   "metadata": {},
   "source": [
    "Supprimer manuellement du fichier `emg_batch_manifest.csv` les échantillons qui n'ont pas été approuvés par les responsables.\n",
    "Se connecter à Emedgene et soumettre le fichier CSV à la cration des cas par lot."
   ]
  },
  {
   "cell_type": "code",
   "execution_count": null,
   "metadata": {
    "vscode": {
     "languageId": "shellscript"
    }
   },
   "outputs": [],
   "source": [
    "## 4. Archiver les résultats\n",
    "\n",
    "ssh hien@narval.calculquebec.ca\n",
    "\n",
    "samples=()\n",
    "total_samples=${#samples[@]}\n",
    "\n",
    "cd ${HOME}/projects/ctb-rallard/COMMUN/PRAGMatIQ-EMG\n",
    "cp archive_PRAGMatIQ.log archive_PRAGMatIQ.log0\n",
    "\n",
    "count=1\n",
    "for sample in ${samples[@]}; do\n",
    "    echo \"Processing sample ${count}/${total_samples}, ${sample}\"\n",
    "    aws s3 --profile emedgene cp s3://cac1-prodca-emg-auto-results/CHU_Sainte_Justine/${sample}/ ./archives/${sample} --recursive\n",
    "    echo ${sample} $( date +'%Y-%m-%d %T' ) >> archive_PRAGMatIQ.log\n",
    "    ((count++))\n",
    "done"
   ]
  }
 ],
 "metadata": {
  "language_info": {
   "name": "python"
  }
 },
 "nbformat": 4,
 "nbformat_minor": 2
}
