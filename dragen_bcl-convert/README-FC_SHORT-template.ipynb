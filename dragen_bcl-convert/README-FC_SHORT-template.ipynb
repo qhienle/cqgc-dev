{
 "cells": [
  {
   "cell_type": "markdown",
   "metadata": {},
   "source": [
    "# FLOWCELL | EXPERIMENT\n",
    "\n",
    "[YYYY-mm-dd] CopyComplete.txt 'mmm dd hh:mm'\n",
    "\n",
    "```bash\n",
    "screen -S sign\n",
    "\n",
    "export FC=\"\"\n",
    "export PI=\"Sinnett_DS\"\n",
    "export BASEDIR=\"/mnt/vs_nas_chusj/CQGC_PROD/sequenceurs/${a[1]}\"\n",
    "export WORKDIR=\"/mnt/vs_nas_chusj/CQGC_PROD/fastqs\"\n",
    "export LOGIN=\"hien\"\n",
    "\n",
    "conda activate CQGC-bcl_convert\n",
    "python /staging2/soft/CQGC-utils/Helpers/get_nanuq_files.py\n",
    "\n",
    "ls -l ${BASEDIR}/${FC}/CopyComplete.txt \n",
    "# => file size is zero and NO \"File not found\" error message\n",
    "``````"
   ]
  },
  {
   "cell_type": "code",
   "execution_count": null,
   "metadata": {
    "vscode": {
     "languageId": "shellscript"
    }
   },
   "outputs": [],
   "source": [
    "# 6.3.1 If only one index size is present in the SampleSheet. Otherwise, split the SampleSheet\n",
    "\n",
    "cat ${WORKDIR}/${FC}/SampleSheet.csv\n",
    "qsub -V /staging2/soft/CQGC-utils/Analysis.dragen_bcl-convert/scripts/dragen_bcl-convert_launcher.sh ${FC}\n",
    "\n",
    "qstat -u ${USER}\n",
    "tail -f ${WORKDIR}/${FC}/${FC}.bcl-convert.log\n"
   ]
  },
  {
   "cell_type": "code",
   "execution_count": null,
   "metadata": {
    "vscode": {
     "languageId": "shellscript"
    }
   },
   "outputs": [],
   "source": [
    "# Split SampleSheet by index and note index size for each lane \n",
    "# _N.B._ Run logs for both index written to the same file \n",
    "python /staging2/soft/CQGC-utils/Analysis.dragen_bcl-convert/scripts/split_samples_by_index_size.py ${WORKDIR}/${FC}/SampleSheet.csv \n",
    "\n",
    "i=8 # or i=10\n",
    "mv ${WORKDIR}/${FC}/SampleSheet-i${i}.csv ${WORKDIR}/${FC}/SampleSheet.csv\n",
    "qsub -V /staging2/soft/CQGC-utils/Analysis.dragen_bcl-convert/scripts/dragen_bcl_convert.sh\n",
    "# Wait for job to finish, then do some post-processing\n",
    "# before moving to the next size of index\n",
    "mv ${WORKDIR}/${FC}/1.fastq/Logs ${WORKDIR}/${FC}/1.fastq/Logs-i${i}\n",
    "mv ${WORKDIR}/${FC}/1.fastq/Reports ${WORKDIR}/${FC}/1.fastq/Reports-i${i}\n",
    "python /staging2/soft/CQGC-utils/Analysis.dragen_bcl-convert/scripts/assemble_report.py --pools ${WORKDIR}/${FC}/SamplePools.csv ${WORKDIR}/${FC}/1.fastq/Reports-i${i} \n",
    "\n",
    "i=10\n",
    "mv ${WORKDIR}/${FC}/SampleSheet-i${i}.csv ${WORKDIR}/${FC}/SampleSheet.csv\n",
    "qsub -V /staging2/soft/CQGC-utils/Analysis.dragen_bcl-convert/scripts/dragen_bcl_convert.sh\n",
    "# Wait for job to finish, then do some post-processing\n",
    "mv ${WORKDIR}/${FC}/1.fastq/Logs ${WORKDIR}/${FC}/1.fastq/Logs-i${i}\n",
    "mv ${WORKDIR}/${FC}/1.fastq/Reports ${WORKDIR}/${FC}/1.fastq/Reports-i${i}\n",
    "python /staging2/soft/CQGC-utils/Analysis.dragen_bcl-convert/scripts/assemble_report.py --pools ${WORKDIR}/${FC}/SamplePools.csv ${WORKDIR}/${FC}/1.fastq/Reports-i${i} \n"
   ]
  },
  {
   "cell_type": "code",
   "execution_count": null,
   "metadata": {
    "vscode": {
     "languageId": "shellscript"
    }
   },
   "outputs": [],
   "source": [
    "python /staging2/soft/CQGC-utils/Analysis.dragen_bcl-convert/scripts/assemble_report.py --pools ${WORKDIR}/${FC}/SamplePools.csv ${WORKDIR}/${FC}/1.fastq/Reports\n",
    "bash /staging2/soft/CQGC-utils/Analysis.dragen_bcl-convert/scripts/cp_RunInfo_Stats.sh\n",
    "rsync -uva --progress ${WORKDIR}/${FC} ${LOGIN}@beluga.calculquebec.ca:/scratch/${LOGIN}/_fastq/${PI}/"
   ]
  },
  {
   "cell_type": "code",
   "execution_count": null,
   "metadata": {
    "vscode": {
     "languageId": "shellscript"
    }
   },
   "outputs": [],
   "source": [
    "export FC=\"\"\n",
    "a=($(echo ${FC} | tr '_' '\\n'))\n",
    "export PI=\"Sinnett_DS\"\n",
    "export LOGIN=\"hien\"\n",
    "\n",
    "cd ${SCRATCH}/_fastq/${PI}/${FC}/1.fastq/\n",
    "mv Sinnett_SIGNATURE/*.fastq.gz .\n",
    "rmdir Sinnett_SIGNATURE\n",
    "python ${HOME}/projects/def-rallard/COMMUN/scripts/rename_samples.py ${SCRATCH}/_fastq/${PI}/${FC}\n",
    "\n",
    "rm -R ${SCRATCH}/_fastq/${PI}/${FC}/1.fastq/Logs*\n",
    "rm ${SCRATCH}/_fastq/${PI}/${FC}/Sample*\n",
    "mv ${SCRATCH}/_fastq/${PI}/${FC} ${SCRATCH}/Globus/${PI}\n"
   ]
  },
  {
   "cell_type": "code",
   "execution_count": null,
   "metadata": {
    "vscode": {
     "languageId": "shellscript"
    }
   },
   "outputs": [],
   "source": [
    "# Edit the delivery message so that it is adapted for SIGNATURE or PROFYLE recipients\n",
    "\n",
    "echo \"Objet:[Dr ${PI}] ${FC} \n",
    "--------- \n",
    "Les fichiers .FASTQ de votre projet ${FC} sont maintenant accessibles depuis ce lien Globus : \n",
    "\n",
    "​https://app.globus.org/file-manager?origin_id=7574e08a-ff32-11ea-81a3-0e2f230cc907 \n",
    "\n",
    "​DRAGEN Version 4.2.4 a été utilisé pour ce procédé de déconvolution et conversion. Sous le répertoire ${FC} se trouvent: \n",
    "\n",
    "- Les rapports statistiques de déconvolution des reads ./1.fastq/Reports/Demultiplex_Stats.csv \n",
    "- La feuille des échantillons ./1.fastq/Reports/SampleSheet.csv\n",
    "- Les paramètres utilisés lors du procédé de conversion et de déconvolution des reads ./${FC}.bcl-convert.log \n",
    "- Une liste des fichiers de séquences compressées (*.fastq.gz) ./1.fastq/Reports/fastq_list.csv \n",
    "\n",
    "Aucun filtre n'a été appliqué sur les séquences: les séquences des adaptateurs sont encore présentes l'outil Trimmomatic http://www.usadellab.org/cms/?page=trimmomatic peut être utilisé pour appliquer les filtres de trimming des reads selon les paramètres de votre choix. \n",
    "\n",
    "​Les fichiers et le rapport statistique ont été renommés à votre demande.\n",
    " \n",
    "​Cordialement,\n",
    "​\" | tee ${SCRATCH}/Globus/${PI}/${FC}/delivery_msg.txt\n",
    "\n"
   ]
  },
  {
   "cell_type": "code",
   "execution_count": null,
   "metadata": {
    "vscode": {
     "languageId": "shellscript"
    }
   },
   "outputs": [],
   "source": [
    "# 6.5.1 Archivage de FASTQ\n",
    "# ssh spxp-app02 && setup env \n",
    "\n",
    "cd ${WORKDIR}\n",
    "rm ${WORKDIR}/${FC}/1.fastq/Undetermined_*\n",
    "find ${WORKDIR}/${FC}/ -type f -regex \".*/*fastq.gz\" -exec sha1sum -b {} \\; >> ${WORKDIR}/${FC}.sha1\n",
    "tar -cvzf ${FC}.tar.gz ${FC} > ${FC}.tar.gz.log\n",
    "sha1sum ${FC}.tar.gz > ${FC}.tar.gz.sha1\n",
    "rsync -uva --progress ${FC}.* ${LOGIN}@beluga.calculquebec.ca:/nearline/rpp-montpea/CIGCP_COMMUN/_reads_GQSJ/IlluminaNovaSeq6000_fastq/${PI}/ && touch me\n"
   ]
  },
  {
   "cell_type": "code",
   "execution_count": null,
   "metadata": {
    "vscode": {
     "languageId": "shellscript"
    }
   },
   "outputs": [],
   "source": [
    "# 6.5.2 ​Vérifier l'intégrité des transferts \n",
    "# ssh spxp-app02 && setup env \n",
    "\n",
    "export FC=\"\"\n",
    "a=($(echo ${FC} | tr '_' '\\n'))\n",
    "export PI=\"Sinnett_DS\"\n",
    "export LOGIN=\"hien\"\n",
    "\n",
    "cd ${SCRATCH}\n",
    "sbatch ~/bin/CQGC-utils/Analysis.dragen_bcl-convert/scripts/checksum.sh \n"
   ]
  },
  {
   "cell_type": "code",
   "execution_count": null,
   "metadata": {
    "vscode": {
     "languageId": "powershell"
    }
   },
   "outputs": [],
   "source": [
    "Set-Location 'D:\\HSJ\\Projects\\Process Seq Runs\\Runs\\240816_A00516_0589_BHVGF5DMXY'\n",
    "jupyter nbconvert --to html --template lab .\\README-A00516_0589.ipynb\n"
   ]
  }
 ],
 "metadata": {
  "language_info": {
   "name": "python"
  }
 },
 "nbformat": 4,
 "nbformat_minor": 2
}
